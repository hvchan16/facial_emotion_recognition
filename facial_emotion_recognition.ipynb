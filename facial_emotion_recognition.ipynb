{
 "cells": [
  {
   "cell_type": "markdown",
   "metadata": {},
   "source": [
    "# 2021S AML-3104 Assignment 1\n",
    "### [30 Marks, 20%]"
   ]
  },
  {
   "cell_type": "markdown",
   "metadata": {},
   "source": [
    "## Import libraries"
   ]
  },
  {
   "cell_type": "code",
   "execution_count": 1,
   "metadata": {},
   "outputs": [],
   "source": [
    "import pandas as pd\n",
    "import numpy as np\n",
    "import matplotlib.pyplot as plt\n",
    "import cv2\n",
    "import seaborn as sns\n",
    "# You may need some sklearn specific imports, or other standard toolboxes\n",
    "# !pip install fer"
   ]
  },
  {
   "cell_type": "markdown",
   "metadata": {},
   "source": [
    "## Load dataset"
   ]
  },
  {
   "cell_type": "code",
   "execution_count": 2,
   "metadata": {},
   "outputs": [
    {
     "data": {
      "text/plain": [
       "array([[ 70.,  80.,  82., ...,   0.,   0.,   0.],\n",
       "       [151., 150., 147., ...,   0.,   0.,   0.],\n",
       "       [231., 212., 156., ...,   0.,   0.,   0.],\n",
       "       ...,\n",
       "       [ 74.,  81.,  87., ...,   1.,   0.,   0.],\n",
       "       [222., 227., 203., ...,   0.,   0.,   0.],\n",
       "       [195., 199., 205., ...,   1.,   0.,   0.]])"
      ]
     },
     "execution_count": 2,
     "metadata": {},
     "output_type": "execute_result"
    }
   ],
   "source": [
    "trainingset = np.loadtxt('training.csv', delimiter=',')\n",
    "testingset = np.loadtxt('test.csv', delimiter=',')\n",
    "\n",
    "trainingset"
   ]
  },
  {
   "cell_type": "markdown",
   "metadata": {},
   "source": [
    "## Split data"
   ]
  },
  {
   "cell_type": "code",
   "execution_count": 3,
   "metadata": {},
   "outputs": [],
   "source": [
    "n_inputs = 2304 # images are 48 x 48\n",
    "n_classes = 7 # 7 classes - as defined below\n",
    "img_dim = 48 # each input image dimension, width and height are both 48\n",
    "\n",
    "x_training = trainingset[:, 0:n_inputs] # Extract the first 2304 elements - the image\n",
    "y_training = trainingset[:, n_inputs:n_inputs + n_classes] # Extract the last 7 elements - a one hot category encoding\n",
    "\n",
    "x_testing = testingset[:, 0:n_inputs] # Extract the first 2304 elements - the image\n",
    "y_testing = testingset[:, n_inputs:n_inputs + n_classes] # Extract the last 7 elements - a one hot category encoding\n",
    "\n",
    "x_training = x_training.reshape(x_training.shape[0], 48, 48) # Make samples image shaped\n",
    "x_testing = x_testing.reshape(x_testing.shape[0], 48, 48) # Make samples image shaped"
   ]
  },
  {
   "cell_type": "code",
   "execution_count": 4,
   "metadata": {},
   "outputs": [
    {
     "data": {
      "text/plain": [
       "(28709, 48, 48)"
      ]
     },
     "execution_count": 4,
     "metadata": {},
     "output_type": "execute_result"
    }
   ],
   "source": [
    "x_training.shape"
   ]
  },
  {
   "cell_type": "code",
   "execution_count": 5,
   "metadata": {},
   "outputs": [
    {
     "data": {
      "text/plain": [
       "(3589, 48, 48)"
      ]
     },
     "execution_count": 5,
     "metadata": {},
     "output_type": "execute_result"
    }
   ],
   "source": [
    "x_testing.shape"
   ]
  },
  {
   "cell_type": "code",
   "execution_count": 6,
   "metadata": {},
   "outputs": [],
   "source": [
    "# Reshaping the Samples\n",
    "x_training = x_training.reshape(x_training.shape[0], 48, 48) # Make samples image shaped\n",
    "x_testing = x_testing.reshape(x_testing.shape[0], 48, 48) # Make samples image shaped"
   ]
  },
  {
   "cell_type": "code",
   "execution_count": 7,
   "metadata": {},
   "outputs": [
    {
     "data": {
      "text/plain": [
       "(28709, 48, 48)"
      ]
     },
     "execution_count": 7,
     "metadata": {},
     "output_type": "execute_result"
    }
   ],
   "source": [
    "x_training.shape"
   ]
  },
  {
   "cell_type": "code",
   "execution_count": 8,
   "metadata": {},
   "outputs": [
    {
     "data": {
      "text/plain": [
       "(3589, 48, 48)"
      ]
     },
     "execution_count": 8,
     "metadata": {},
     "output_type": "execute_result"
    }
   ],
   "source": [
    "x_testing.shape"
   ]
  },
  {
   "cell_type": "code",
   "execution_count": 9,
   "metadata": {},
   "outputs": [],
   "source": [
    "def get_emotion(whichemotion):\n",
    "    if whichemotion.shape[0] == 1:\n",
    "        indx = whichemotion[0]\n",
    "    else:\n",
    "        indx = np.argmax(whichemotion)\n",
    "    if indx == 0:\n",
    "        return 'angry'\n",
    "    elif indx == 1:\n",
    "        return 'disgust'\n",
    "    elif indx == 2:\n",
    "        return 'fear'\n",
    "    elif indx == 3:\n",
    "        return 'happy'\n",
    "    elif indx == 4:\n",
    "        return 'sad'\n",
    "    elif indx == 5:\n",
    "        return 'surprise'\n",
    "    elif indx == 6:\n",
    "        return 'neutral'"
   ]
  },
  {
   "cell_type": "code",
   "execution_count": 10,
   "metadata": {},
   "outputs": [
    {
     "name": "stdout",
     "output_type": "stream",
     "text": [
      "(28709, 48, 48)\n",
      "(28709, 7)\n",
      "(3589, 48, 48)\n",
      "(3589, 7)\n"
     ]
    },
    {
     "data": {
      "image/png": "[encoded data removed]",
      "text/plain": [
       "<Figure size 432x288 with 1 Axes>"
      ]
     },
     "metadata": {
      "needs_background": "light"
     },
     "output_type": "display_data"
    },
    {
     "name": "stdout",
     "output_type": "stream",
     "text": [
      "facial emotion: fear\n"
     ]
    }
   ],
   "source": [
    "print(x_training.shape)\n",
    "print(y_training.shape)\n",
    "\n",
    "print(x_testing.shape)\n",
    "print(y_testing.shape)\n",
    "\n",
    "sampleindex = np.random.randint(0,1000)\n",
    "sample = x_training[sampleindex, :]\n",
    "sample = sample.reshape(48, 48)\n",
    "\n",
    "plt.imshow(sample, cmap='gray')\n",
    "plt.show()\n",
    "print('facial emotion: %s' % get_emotion(y_training[sampleindex, :]))"
   ]
  },
  {
   "cell_type": "markdown",
   "metadata": {},
   "source": [
    "# Part I : Happy or Sad\n",
    "\n",
    "## For this part you will consider a binary classification problem - categorizing faces as happy or sad"
   ]
  },
  {
   "cell_type": "markdown",
   "metadata": {
    "collapsed": true
   },
   "source": [
    "[1 Mark] a. Sample from the data loaded above to include only the happy or sad cases"
   ]
  },
  {
   "cell_type": "code",
   "execution_count": 11,
   "metadata": {},
   "outputs": [],
   "source": [
    "# YOUR CODE HERE\n",
    "# Sample from the data loaded above to include only the happy or sad cases\n",
    "\n",
    "data_train_org = pd.read_csv('training.csv',sep=',',header=None)\n",
    "data_test_org = pd.read_csv('test.csv', sep=',',header=None)"
   ]
  },
  {
   "cell_type": "code",
   "execution_count": 12,
   "metadata": {},
   "outputs": [
    {
     "data": {
      "text/html": [
       "<div>\n",
       "<style scoped>\n",
       "    .dataframe tbody tr th:only-of-type {\n",
       "        vertical-align: middle;\n",
       "    }\n",
       "\n",
       "    .dataframe tbody tr th {\n",
       "        vertical-align: top;\n",
       "    }\n",
       "\n",
       "    .dataframe thead th {\n",
       "        text-align: right;\n",
       "    }\n",
       "</style>\n",
       "<table border=\"1\" class=\"dataframe\">\n",
       "  <thead>\n",
       "    <tr style=\"text-align: right;\">\n",
       "      <th></th>\n",
       "      <th>0</th>\n",
       "      <th>1</th>\n",
       "      <th>2</th>\n",
       "      <th>3</th>\n",
       "      <th>4</th>\n",
       "      <th>5</th>\n",
       "      <th>6</th>\n",
       "      <th>7</th>\n",
       "      <th>8</th>\n",
       "      <th>9</th>\n",
       "      <th>...</th>\n",
       "      <th>2301</th>\n",
       "      <th>2302</th>\n",
       "      <th>2303</th>\n",
       "      <th>2304</th>\n",
       "      <th>2305</th>\n",
       "      <th>2306</th>\n",
       "      <th>2307</th>\n",
       "      <th>2308</th>\n",
       "      <th>2309</th>\n",
       "      <th>2310</th>\n",
       "    </tr>\n",
       "  </thead>\n",
       "  <tbody>\n",
       "    <tr>\n",
       "      <th>0</th>\n",
       "      <td>254</td>\n",
       "      <td>254</td>\n",
       "      <td>254</td>\n",
       "      <td>254</td>\n",
       "      <td>254</td>\n",
       "      <td>249</td>\n",
       "      <td>255</td>\n",
       "      <td>160</td>\n",
       "      <td>2</td>\n",
       "      <td>58</td>\n",
       "      <td>...</td>\n",
       "      <td>42</td>\n",
       "      <td>129</td>\n",
       "      <td>180</td>\n",
       "      <td>1</td>\n",
       "      <td>0</td>\n",
       "      <td>0</td>\n",
       "      <td>0</td>\n",
       "      <td>0</td>\n",
       "      <td>0</td>\n",
       "      <td>0</td>\n",
       "    </tr>\n",
       "    <tr>\n",
       "      <th>1</th>\n",
       "      <td>156</td>\n",
       "      <td>184</td>\n",
       "      <td>198</td>\n",
       "      <td>202</td>\n",
       "      <td>204</td>\n",
       "      <td>207</td>\n",
       "      <td>210</td>\n",
       "      <td>212</td>\n",
       "      <td>213</td>\n",
       "      <td>214</td>\n",
       "      <td>...</td>\n",
       "      <td>172</td>\n",
       "      <td>167</td>\n",
       "      <td>161</td>\n",
       "      <td>0</td>\n",
       "      <td>1</td>\n",
       "      <td>0</td>\n",
       "      <td>0</td>\n",
       "      <td>0</td>\n",
       "      <td>0</td>\n",
       "      <td>0</td>\n",
       "    </tr>\n",
       "    <tr>\n",
       "      <th>2</th>\n",
       "      <td>69</td>\n",
       "      <td>118</td>\n",
       "      <td>61</td>\n",
       "      <td>60</td>\n",
       "      <td>96</td>\n",
       "      <td>121</td>\n",
       "      <td>103</td>\n",
       "      <td>87</td>\n",
       "      <td>103</td>\n",
       "      <td>88</td>\n",
       "      <td>...</td>\n",
       "      <td>88</td>\n",
       "      <td>87</td>\n",
       "      <td>90</td>\n",
       "      <td>0</td>\n",
       "      <td>0</td>\n",
       "      <td>0</td>\n",
       "      <td>0</td>\n",
       "      <td>1</td>\n",
       "      <td>0</td>\n",
       "      <td>0</td>\n",
       "    </tr>\n",
       "    <tr>\n",
       "      <th>3</th>\n",
       "      <td>205</td>\n",
       "      <td>203</td>\n",
       "      <td>236</td>\n",
       "      <td>157</td>\n",
       "      <td>83</td>\n",
       "      <td>158</td>\n",
       "      <td>120</td>\n",
       "      <td>116</td>\n",
       "      <td>94</td>\n",
       "      <td>86</td>\n",
       "      <td>...</td>\n",
       "      <td>43</td>\n",
       "      <td>82</td>\n",
       "      <td>86</td>\n",
       "      <td>0</td>\n",
       "      <td>0</td>\n",
       "      <td>0</td>\n",
       "      <td>0</td>\n",
       "      <td>0</td>\n",
       "      <td>0</td>\n",
       "      <td>1</td>\n",
       "    </tr>\n",
       "    <tr>\n",
       "      <th>4</th>\n",
       "      <td>87</td>\n",
       "      <td>79</td>\n",
       "      <td>74</td>\n",
       "      <td>66</td>\n",
       "      <td>74</td>\n",
       "      <td>96</td>\n",
       "      <td>77</td>\n",
       "      <td>80</td>\n",
       "      <td>80</td>\n",
       "      <td>84</td>\n",
       "      <td>...</td>\n",
       "      <td>41</td>\n",
       "      <td>34</td>\n",
       "      <td>32</td>\n",
       "      <td>0</td>\n",
       "      <td>0</td>\n",
       "      <td>0</td>\n",
       "      <td>1</td>\n",
       "      <td>0</td>\n",
       "      <td>0</td>\n",
       "      <td>0</td>\n",
       "    </tr>\n",
       "    <tr>\n",
       "      <th>...</th>\n",
       "      <td>...</td>\n",
       "      <td>...</td>\n",
       "      <td>...</td>\n",
       "      <td>...</td>\n",
       "      <td>...</td>\n",
       "      <td>...</td>\n",
       "      <td>...</td>\n",
       "      <td>...</td>\n",
       "      <td>...</td>\n",
       "      <td>...</td>\n",
       "      <td>...</td>\n",
       "      <td>...</td>\n",
       "      <td>...</td>\n",
       "      <td>...</td>\n",
       "      <td>...</td>\n",
       "      <td>...</td>\n",
       "      <td>...</td>\n",
       "      <td>...</td>\n",
       "      <td>...</td>\n",
       "      <td>...</td>\n",
       "      <td>...</td>\n",
       "    </tr>\n",
       "    <tr>\n",
       "      <th>3584</th>\n",
       "      <td>178</td>\n",
       "      <td>176</td>\n",
       "      <td>172</td>\n",
       "      <td>173</td>\n",
       "      <td>173</td>\n",
       "      <td>174</td>\n",
       "      <td>176</td>\n",
       "      <td>173</td>\n",
       "      <td>166</td>\n",
       "      <td>166</td>\n",
       "      <td>...</td>\n",
       "      <td>14</td>\n",
       "      <td>15</td>\n",
       "      <td>19</td>\n",
       "      <td>0</td>\n",
       "      <td>0</td>\n",
       "      <td>0</td>\n",
       "      <td>0</td>\n",
       "      <td>1</td>\n",
       "      <td>0</td>\n",
       "      <td>0</td>\n",
       "    </tr>\n",
       "    <tr>\n",
       "      <th>3585</th>\n",
       "      <td>25</td>\n",
       "      <td>34</td>\n",
       "      <td>42</td>\n",
       "      <td>44</td>\n",
       "      <td>42</td>\n",
       "      <td>47</td>\n",
       "      <td>57</td>\n",
       "      <td>59</td>\n",
       "      <td>59</td>\n",
       "      <td>58</td>\n",
       "      <td>...</td>\n",
       "      <td>9</td>\n",
       "      <td>12</td>\n",
       "      <td>11</td>\n",
       "      <td>0</td>\n",
       "      <td>0</td>\n",
       "      <td>0</td>\n",
       "      <td>1</td>\n",
       "      <td>0</td>\n",
       "      <td>0</td>\n",
       "      <td>0</td>\n",
       "    </tr>\n",
       "    <tr>\n",
       "      <th>3586</th>\n",
       "      <td>255</td>\n",
       "      <td>255</td>\n",
       "      <td>255</td>\n",
       "      <td>255</td>\n",
       "      <td>255</td>\n",
       "      <td>255</td>\n",
       "      <td>255</td>\n",
       "      <td>255</td>\n",
       "      <td>255</td>\n",
       "      <td>255</td>\n",
       "      <td>...</td>\n",
       "      <td>48</td>\n",
       "      <td>50</td>\n",
       "      <td>46</td>\n",
       "      <td>0</td>\n",
       "      <td>0</td>\n",
       "      <td>0</td>\n",
       "      <td>0</td>\n",
       "      <td>1</td>\n",
       "      <td>0</td>\n",
       "      <td>0</td>\n",
       "    </tr>\n",
       "    <tr>\n",
       "      <th>3587</th>\n",
       "      <td>33</td>\n",
       "      <td>25</td>\n",
       "      <td>31</td>\n",
       "      <td>36</td>\n",
       "      <td>36</td>\n",
       "      <td>42</td>\n",
       "      <td>69</td>\n",
       "      <td>103</td>\n",
       "      <td>132</td>\n",
       "      <td>163</td>\n",
       "      <td>...</td>\n",
       "      <td>4</td>\n",
       "      <td>5</td>\n",
       "      <td>4</td>\n",
       "      <td>0</td>\n",
       "      <td>0</td>\n",
       "      <td>0</td>\n",
       "      <td>0</td>\n",
       "      <td>1</td>\n",
       "      <td>0</td>\n",
       "      <td>0</td>\n",
       "    </tr>\n",
       "    <tr>\n",
       "      <th>3588</th>\n",
       "      <td>61</td>\n",
       "      <td>63</td>\n",
       "      <td>59</td>\n",
       "      <td>75</td>\n",
       "      <td>151</td>\n",
       "      <td>159</td>\n",
       "      <td>166</td>\n",
       "      <td>161</td>\n",
       "      <td>143</td>\n",
       "      <td>170</td>\n",
       "      <td>...</td>\n",
       "      <td>113</td>\n",
       "      <td>165</td>\n",
       "      <td>180</td>\n",
       "      <td>0</td>\n",
       "      <td>0</td>\n",
       "      <td>0</td>\n",
       "      <td>0</td>\n",
       "      <td>1</td>\n",
       "      <td>0</td>\n",
       "      <td>0</td>\n",
       "    </tr>\n",
       "  </tbody>\n",
       "</table>\n",
       "<p>3589 rows × 2311 columns</p>\n",
       "</div>"
      ],
      "text/plain": [
       "      0     1     2     3     4     5     6     7     8     9     ...  2301  \\\n",
       "0      254   254   254   254   254   249   255   160     2    58  ...    42   \n",
       "1      156   184   198   202   204   207   210   212   213   214  ...   172   \n",
       "2       69   118    61    60    96   121   103    87   103    88  ...    88   \n",
       "3      205   203   236   157    83   158   120   116    94    86  ...    43   \n",
       "4       87    79    74    66    74    96    77    80    80    84  ...    41   \n",
       "...    ...   ...   ...   ...   ...   ...   ...   ...   ...   ...  ...   ...   \n",
       "3584   178   176   172   173   173   174   176   173   166   166  ...    14   \n",
       "3585    25    34    42    44    42    47    57    59    59    58  ...     9   \n",
       "3586   255   255   255   255   255   255   255   255   255   255  ...    48   \n",
       "3587    33    25    31    36    36    42    69   103   132   163  ...     4   \n",
       "3588    61    63    59    75   151   159   166   161   143   170  ...   113   \n",
       "\n",
       "      2302  2303  2304  2305  2306  2307  2308  2309  2310  \n",
       "0      129   180     1     0     0     0     0     0     0  \n",
       "1      167   161     0     1     0     0     0     0     0  \n",
       "2       87    90     0     0     0     0     1     0     0  \n",
       "3       82    86     0     0     0     0     0     0     1  \n",
       "4       34    32     0     0     0     1     0     0     0  \n",
       "...    ...   ...   ...   ...   ...   ...   ...   ...   ...  \n",
       "3584    15    19     0     0     0     0     1     0     0  \n",
       "3585    12    11     0     0     0     1     0     0     0  \n",
       "3586    50    46     0     0     0     0     1     0     0  \n",
       "3587     5     4     0     0     0     0     1     0     0  \n",
       "3588   165   180     0     0     0     0     1     0     0  \n",
       "\n",
       "[3589 rows x 2311 columns]"
      ]
     },
     "execution_count": 12,
     "metadata": {},
     "output_type": "execute_result"
    }
   ],
   "source": [
    "data_test_org"
   ]
  },
  {
   "cell_type": "code",
   "execution_count": 13,
   "metadata": {},
   "outputs": [],
   "source": [
    "# Selecting the columns which has values for happy or sad faces\n",
    "data_train=data_train_org.loc[(data_train_org[2307]==1)|(data_train_org[2308]==1)]\n",
    "data_test = data_test_org.loc[(data_test_org[2307]==1)|(data_test_org[2308]==1)]"
   ]
  },
  {
   "cell_type": "code",
   "execution_count": 14,
   "metadata": {},
   "outputs": [
    {
     "data": {
      "text/html": [
       "<div>\n",
       "<style scoped>\n",
       "    .dataframe tbody tr th:only-of-type {\n",
       "        vertical-align: middle;\n",
       "    }\n",
       "\n",
       "    .dataframe tbody tr th {\n",
       "        vertical-align: top;\n",
       "    }\n",
       "\n",
       "    .dataframe thead th {\n",
       "        text-align: right;\n",
       "    }\n",
       "</style>\n",
       "<table border=\"1\" class=\"dataframe\">\n",
       "  <thead>\n",
       "    <tr style=\"text-align: right;\">\n",
       "      <th></th>\n",
       "      <th>0</th>\n",
       "      <th>1</th>\n",
       "      <th>2</th>\n",
       "      <th>3</th>\n",
       "      <th>4</th>\n",
       "      <th>5</th>\n",
       "      <th>6</th>\n",
       "      <th>7</th>\n",
       "      <th>8</th>\n",
       "      <th>9</th>\n",
       "      <th>...</th>\n",
       "      <th>2301</th>\n",
       "      <th>2302</th>\n",
       "      <th>2303</th>\n",
       "      <th>2304</th>\n",
       "      <th>2305</th>\n",
       "      <th>2306</th>\n",
       "      <th>2307</th>\n",
       "      <th>2308</th>\n",
       "      <th>2309</th>\n",
       "      <th>2310</th>\n",
       "    </tr>\n",
       "  </thead>\n",
       "  <tbody>\n",
       "    <tr>\n",
       "      <th>2</th>\n",
       "      <td>69</td>\n",
       "      <td>118</td>\n",
       "      <td>61</td>\n",
       "      <td>60</td>\n",
       "      <td>96</td>\n",
       "      <td>121</td>\n",
       "      <td>103</td>\n",
       "      <td>87</td>\n",
       "      <td>103</td>\n",
       "      <td>88</td>\n",
       "      <td>...</td>\n",
       "      <td>88</td>\n",
       "      <td>87</td>\n",
       "      <td>90</td>\n",
       "      <td>0</td>\n",
       "      <td>0</td>\n",
       "      <td>0</td>\n",
       "      <td>0</td>\n",
       "      <td>1</td>\n",
       "      <td>0</td>\n",
       "      <td>0</td>\n",
       "    </tr>\n",
       "    <tr>\n",
       "      <th>4</th>\n",
       "      <td>87</td>\n",
       "      <td>79</td>\n",
       "      <td>74</td>\n",
       "      <td>66</td>\n",
       "      <td>74</td>\n",
       "      <td>96</td>\n",
       "      <td>77</td>\n",
       "      <td>80</td>\n",
       "      <td>80</td>\n",
       "      <td>84</td>\n",
       "      <td>...</td>\n",
       "      <td>41</td>\n",
       "      <td>34</td>\n",
       "      <td>32</td>\n",
       "      <td>0</td>\n",
       "      <td>0</td>\n",
       "      <td>0</td>\n",
       "      <td>1</td>\n",
       "      <td>0</td>\n",
       "      <td>0</td>\n",
       "      <td>0</td>\n",
       "    </tr>\n",
       "    <tr>\n",
       "      <th>5</th>\n",
       "      <td>235</td>\n",
       "      <td>233</td>\n",
       "      <td>223</td>\n",
       "      <td>109</td>\n",
       "      <td>34</td>\n",
       "      <td>37</td>\n",
       "      <td>34</td>\n",
       "      <td>31</td>\n",
       "      <td>28</td>\n",
       "      <td>38</td>\n",
       "      <td>...</td>\n",
       "      <td>33</td>\n",
       "      <td>17</td>\n",
       "      <td>19</td>\n",
       "      <td>0</td>\n",
       "      <td>0</td>\n",
       "      <td>0</td>\n",
       "      <td>1</td>\n",
       "      <td>0</td>\n",
       "      <td>0</td>\n",
       "      <td>0</td>\n",
       "    </tr>\n",
       "    <tr>\n",
       "      <th>10</th>\n",
       "      <td>180</td>\n",
       "      <td>175</td>\n",
       "      <td>169</td>\n",
       "      <td>161</td>\n",
       "      <td>157</td>\n",
       "      <td>158</td>\n",
       "      <td>157</td>\n",
       "      <td>154</td>\n",
       "      <td>155</td>\n",
       "      <td>157</td>\n",
       "      <td>...</td>\n",
       "      <td>32</td>\n",
       "      <td>32</td>\n",
       "      <td>33</td>\n",
       "      <td>0</td>\n",
       "      <td>0</td>\n",
       "      <td>0</td>\n",
       "      <td>1</td>\n",
       "      <td>0</td>\n",
       "      <td>0</td>\n",
       "      <td>0</td>\n",
       "    </tr>\n",
       "    <tr>\n",
       "      <th>12</th>\n",
       "      <td>121</td>\n",
       "      <td>112</td>\n",
       "      <td>64</td>\n",
       "      <td>104</td>\n",
       "      <td>101</td>\n",
       "      <td>87</td>\n",
       "      <td>118</td>\n",
       "      <td>74</td>\n",
       "      <td>91</td>\n",
       "      <td>128</td>\n",
       "      <td>...</td>\n",
       "      <td>81</td>\n",
       "      <td>83</td>\n",
       "      <td>85</td>\n",
       "      <td>0</td>\n",
       "      <td>0</td>\n",
       "      <td>0</td>\n",
       "      <td>0</td>\n",
       "      <td>1</td>\n",
       "      <td>0</td>\n",
       "      <td>0</td>\n",
       "    </tr>\n",
       "    <tr>\n",
       "      <th>...</th>\n",
       "      <td>...</td>\n",
       "      <td>...</td>\n",
       "      <td>...</td>\n",
       "      <td>...</td>\n",
       "      <td>...</td>\n",
       "      <td>...</td>\n",
       "      <td>...</td>\n",
       "      <td>...</td>\n",
       "      <td>...</td>\n",
       "      <td>...</td>\n",
       "      <td>...</td>\n",
       "      <td>...</td>\n",
       "      <td>...</td>\n",
       "      <td>...</td>\n",
       "      <td>...</td>\n",
       "      <td>...</td>\n",
       "      <td>...</td>\n",
       "      <td>...</td>\n",
       "      <td>...</td>\n",
       "      <td>...</td>\n",
       "      <td>...</td>\n",
       "    </tr>\n",
       "    <tr>\n",
       "      <th>3584</th>\n",
       "      <td>178</td>\n",
       "      <td>176</td>\n",
       "      <td>172</td>\n",
       "      <td>173</td>\n",
       "      <td>173</td>\n",
       "      <td>174</td>\n",
       "      <td>176</td>\n",
       "      <td>173</td>\n",
       "      <td>166</td>\n",
       "      <td>166</td>\n",
       "      <td>...</td>\n",
       "      <td>14</td>\n",
       "      <td>15</td>\n",
       "      <td>19</td>\n",
       "      <td>0</td>\n",
       "      <td>0</td>\n",
       "      <td>0</td>\n",
       "      <td>0</td>\n",
       "      <td>1</td>\n",
       "      <td>0</td>\n",
       "      <td>0</td>\n",
       "    </tr>\n",
       "    <tr>\n",
       "      <th>3585</th>\n",
       "      <td>25</td>\n",
       "      <td>34</td>\n",
       "      <td>42</td>\n",
       "      <td>44</td>\n",
       "      <td>42</td>\n",
       "      <td>47</td>\n",
       "      <td>57</td>\n",
       "      <td>59</td>\n",
       "      <td>59</td>\n",
       "      <td>58</td>\n",
       "      <td>...</td>\n",
       "      <td>9</td>\n",
       "      <td>12</td>\n",
       "      <td>11</td>\n",
       "      <td>0</td>\n",
       "      <td>0</td>\n",
       "      <td>0</td>\n",
       "      <td>1</td>\n",
       "      <td>0</td>\n",
       "      <td>0</td>\n",
       "      <td>0</td>\n",
       "    </tr>\n",
       "    <tr>\n",
       "      <th>3586</th>\n",
       "      <td>255</td>\n",
       "      <td>255</td>\n",
       "      <td>255</td>\n",
       "      <td>255</td>\n",
       "      <td>255</td>\n",
       "      <td>255</td>\n",
       "      <td>255</td>\n",
       "      <td>255</td>\n",
       "      <td>255</td>\n",
       "      <td>255</td>\n",
       "      <td>...</td>\n",
       "      <td>48</td>\n",
       "      <td>50</td>\n",
       "      <td>46</td>\n",
       "      <td>0</td>\n",
       "      <td>0</td>\n",
       "      <td>0</td>\n",
       "      <td>0</td>\n",
       "      <td>1</td>\n",
       "      <td>0</td>\n",
       "      <td>0</td>\n",
       "    </tr>\n",
       "    <tr>\n",
       "      <th>3587</th>\n",
       "      <td>33</td>\n",
       "      <td>25</td>\n",
       "      <td>31</td>\n",
       "      <td>36</td>\n",
       "      <td>36</td>\n",
       "      <td>42</td>\n",
       "      <td>69</td>\n",
       "      <td>103</td>\n",
       "      <td>132</td>\n",
       "      <td>163</td>\n",
       "      <td>...</td>\n",
       "      <td>4</td>\n",
       "      <td>5</td>\n",
       "      <td>4</td>\n",
       "      <td>0</td>\n",
       "      <td>0</td>\n",
       "      <td>0</td>\n",
       "      <td>0</td>\n",
       "      <td>1</td>\n",
       "      <td>0</td>\n",
       "      <td>0</td>\n",
       "    </tr>\n",
       "    <tr>\n",
       "      <th>3588</th>\n",
       "      <td>61</td>\n",
       "      <td>63</td>\n",
       "      <td>59</td>\n",
       "      <td>75</td>\n",
       "      <td>151</td>\n",
       "      <td>159</td>\n",
       "      <td>166</td>\n",
       "      <td>161</td>\n",
       "      <td>143</td>\n",
       "      <td>170</td>\n",
       "      <td>...</td>\n",
       "      <td>113</td>\n",
       "      <td>165</td>\n",
       "      <td>180</td>\n",
       "      <td>0</td>\n",
       "      <td>0</td>\n",
       "      <td>0</td>\n",
       "      <td>0</td>\n",
       "      <td>1</td>\n",
       "      <td>0</td>\n",
       "      <td>0</td>\n",
       "    </tr>\n",
       "  </tbody>\n",
       "</table>\n",
       "<p>1548 rows × 2311 columns</p>\n",
       "</div>"
      ],
      "text/plain": [
       "      0     1     2     3     4     5     6     7     8     9     ...  2301  \\\n",
       "2       69   118    61    60    96   121   103    87   103    88  ...    88   \n",
       "4       87    79    74    66    74    96    77    80    80    84  ...    41   \n",
       "5      235   233   223   109    34    37    34    31    28    38  ...    33   \n",
       "10     180   175   169   161   157   158   157   154   155   157  ...    32   \n",
       "12     121   112    64   104   101    87   118    74    91   128  ...    81   \n",
       "...    ...   ...   ...   ...   ...   ...   ...   ...   ...   ...  ...   ...   \n",
       "3584   178   176   172   173   173   174   176   173   166   166  ...    14   \n",
       "3585    25    34    42    44    42    47    57    59    59    58  ...     9   \n",
       "3586   255   255   255   255   255   255   255   255   255   255  ...    48   \n",
       "3587    33    25    31    36    36    42    69   103   132   163  ...     4   \n",
       "3588    61    63    59    75   151   159   166   161   143   170  ...   113   \n",
       "\n",
       "      2302  2303  2304  2305  2306  2307  2308  2309  2310  \n",
       "2       87    90     0     0     0     0     1     0     0  \n",
       "4       34    32     0     0     0     1     0     0     0  \n",
       "5       17    19     0     0     0     1     0     0     0  \n",
       "10      32    33     0     0     0     1     0     0     0  \n",
       "12      83    85     0     0     0     0     1     0     0  \n",
       "...    ...   ...   ...   ...   ...   ...   ...   ...   ...  \n",
       "3584    15    19     0     0     0     0     1     0     0  \n",
       "3585    12    11     0     0     0     1     0     0     0  \n",
       "3586    50    46     0     0     0     0     1     0     0  \n",
       "3587     5     4     0     0     0     0     1     0     0  \n",
       "3588   165   180     0     0     0     0     1     0     0  \n",
       "\n",
       "[1548 rows x 2311 columns]"
      ]
     },
     "execution_count": 14,
     "metadata": {},
     "output_type": "execute_result"
    }
   ],
   "source": [
    "data_test"
   ]
  },
  {
   "cell_type": "code",
   "execution_count": 15,
   "metadata": {},
   "outputs": [],
   "source": [
    "# Dropping the unwanted columns for the faces\n",
    "data_train = data_train.drop(data_train.columns[[2304,2305,2306,2309,2310]], axis=1) \n",
    "data_test = data_test.drop(data_test.columns[[2304,2305,2306,2309,2310]], axis=1) "
   ]
  },
  {
   "cell_type": "code",
   "execution_count": 16,
   "metadata": {},
   "outputs": [],
   "source": [
    "# Renaming the column names\n",
    "data_train=data_train.rename(columns={2307:2304,2308:2305})\n",
    "data_test=data_test.rename(columns={2307:2304,2308:2305})"
   ]
  },
  {
   "cell_type": "code",
   "execution_count": 17,
   "metadata": {},
   "outputs": [
    {
     "data": {
      "text/html": [
       "<div>\n",
       "<style scoped>\n",
       "    .dataframe tbody tr th:only-of-type {\n",
       "        vertical-align: middle;\n",
       "    }\n",
       "\n",
       "    .dataframe tbody tr th {\n",
       "        vertical-align: top;\n",
       "    }\n",
       "\n",
       "    .dataframe thead th {\n",
       "        text-align: right;\n",
       "    }\n",
       "</style>\n",
       "<table border=\"1\" class=\"dataframe\">\n",
       "  <thead>\n",
       "    <tr style=\"text-align: right;\">\n",
       "      <th></th>\n",
       "      <th>0</th>\n",
       "      <th>1</th>\n",
       "      <th>2</th>\n",
       "      <th>3</th>\n",
       "      <th>4</th>\n",
       "      <th>5</th>\n",
       "      <th>6</th>\n",
       "      <th>7</th>\n",
       "      <th>8</th>\n",
       "      <th>9</th>\n",
       "      <th>...</th>\n",
       "      <th>2296</th>\n",
       "      <th>2297</th>\n",
       "      <th>2298</th>\n",
       "      <th>2299</th>\n",
       "      <th>2300</th>\n",
       "      <th>2301</th>\n",
       "      <th>2302</th>\n",
       "      <th>2303</th>\n",
       "      <th>2304</th>\n",
       "      <th>2305</th>\n",
       "    </tr>\n",
       "  </thead>\n",
       "  <tbody>\n",
       "    <tr>\n",
       "      <th>3</th>\n",
       "      <td>24</td>\n",
       "      <td>32</td>\n",
       "      <td>36</td>\n",
       "      <td>30</td>\n",
       "      <td>32</td>\n",
       "      <td>23</td>\n",
       "      <td>19</td>\n",
       "      <td>20</td>\n",
       "      <td>30</td>\n",
       "      <td>41</td>\n",
       "      <td>...</td>\n",
       "      <td>132</td>\n",
       "      <td>132</td>\n",
       "      <td>133</td>\n",
       "      <td>136</td>\n",
       "      <td>139</td>\n",
       "      <td>142</td>\n",
       "      <td>143</td>\n",
       "      <td>142</td>\n",
       "      <td>0</td>\n",
       "      <td>1</td>\n",
       "    </tr>\n",
       "    <tr>\n",
       "      <th>6</th>\n",
       "      <td>20</td>\n",
       "      <td>17</td>\n",
       "      <td>19</td>\n",
       "      <td>21</td>\n",
       "      <td>25</td>\n",
       "      <td>38</td>\n",
       "      <td>42</td>\n",
       "      <td>42</td>\n",
       "      <td>46</td>\n",
       "      <td>54</td>\n",
       "      <td>...</td>\n",
       "      <td>68</td>\n",
       "      <td>91</td>\n",
       "      <td>85</td>\n",
       "      <td>93</td>\n",
       "      <td>97</td>\n",
       "      <td>99</td>\n",
       "      <td>107</td>\n",
       "      <td>118</td>\n",
       "      <td>0</td>\n",
       "      <td>1</td>\n",
       "    </tr>\n",
       "    <tr>\n",
       "      <th>7</th>\n",
       "      <td>77</td>\n",
       "      <td>78</td>\n",
       "      <td>79</td>\n",
       "      <td>79</td>\n",
       "      <td>78</td>\n",
       "      <td>75</td>\n",
       "      <td>60</td>\n",
       "      <td>55</td>\n",
       "      <td>47</td>\n",
       "      <td>48</td>\n",
       "      <td>...</td>\n",
       "      <td>139</td>\n",
       "      <td>150</td>\n",
       "      <td>179</td>\n",
       "      <td>180</td>\n",
       "      <td>175</td>\n",
       "      <td>125</td>\n",
       "      <td>67</td>\n",
       "      <td>68</td>\n",
       "      <td>1</td>\n",
       "      <td>0</td>\n",
       "    </tr>\n",
       "    <tr>\n",
       "      <th>8</th>\n",
       "      <td>85</td>\n",
       "      <td>84</td>\n",
       "      <td>90</td>\n",
       "      <td>121</td>\n",
       "      <td>101</td>\n",
       "      <td>102</td>\n",
       "      <td>133</td>\n",
       "      <td>153</td>\n",
       "      <td>153</td>\n",
       "      <td>169</td>\n",
       "      <td>...</td>\n",
       "      <td>111</td>\n",
       "      <td>106</td>\n",
       "      <td>102</td>\n",
       "      <td>99</td>\n",
       "      <td>89</td>\n",
       "      <td>58</td>\n",
       "      <td>73</td>\n",
       "      <td>84</td>\n",
       "      <td>1</td>\n",
       "      <td>0</td>\n",
       "    </tr>\n",
       "    <tr>\n",
       "      <th>14</th>\n",
       "      <td>4</td>\n",
       "      <td>2</td>\n",
       "      <td>13</td>\n",
       "      <td>41</td>\n",
       "      <td>56</td>\n",
       "      <td>62</td>\n",
       "      <td>67</td>\n",
       "      <td>87</td>\n",
       "      <td>95</td>\n",
       "      <td>62</td>\n",
       "      <td>...</td>\n",
       "      <td>80</td>\n",
       "      <td>74</td>\n",
       "      <td>69</td>\n",
       "      <td>99</td>\n",
       "      <td>28</td>\n",
       "      <td>3</td>\n",
       "      <td>7</td>\n",
       "      <td>12</td>\n",
       "      <td>1</td>\n",
       "      <td>0</td>\n",
       "    </tr>\n",
       "    <tr>\n",
       "      <th>...</th>\n",
       "      <td>...</td>\n",
       "      <td>...</td>\n",
       "      <td>...</td>\n",
       "      <td>...</td>\n",
       "      <td>...</td>\n",
       "      <td>...</td>\n",
       "      <td>...</td>\n",
       "      <td>...</td>\n",
       "      <td>...</td>\n",
       "      <td>...</td>\n",
       "      <td>...</td>\n",
       "      <td>...</td>\n",
       "      <td>...</td>\n",
       "      <td>...</td>\n",
       "      <td>...</td>\n",
       "      <td>...</td>\n",
       "      <td>...</td>\n",
       "      <td>...</td>\n",
       "      <td>...</td>\n",
       "      <td>...</td>\n",
       "      <td>...</td>\n",
       "    </tr>\n",
       "    <tr>\n",
       "      <th>28697</th>\n",
       "      <td>181</td>\n",
       "      <td>172</td>\n",
       "      <td>161</td>\n",
       "      <td>144</td>\n",
       "      <td>116</td>\n",
       "      <td>109</td>\n",
       "      <td>70</td>\n",
       "      <td>109</td>\n",
       "      <td>187</td>\n",
       "      <td>131</td>\n",
       "      <td>...</td>\n",
       "      <td>146</td>\n",
       "      <td>143</td>\n",
       "      <td>138</td>\n",
       "      <td>133</td>\n",
       "      <td>128</td>\n",
       "      <td>125</td>\n",
       "      <td>124</td>\n",
       "      <td>123</td>\n",
       "      <td>1</td>\n",
       "      <td>0</td>\n",
       "    </tr>\n",
       "    <tr>\n",
       "      <th>28698</th>\n",
       "      <td>35</td>\n",
       "      <td>45</td>\n",
       "      <td>69</td>\n",
       "      <td>79</td>\n",
       "      <td>75</td>\n",
       "      <td>48</td>\n",
       "      <td>45</td>\n",
       "      <td>35</td>\n",
       "      <td>56</td>\n",
       "      <td>93</td>\n",
       "      <td>...</td>\n",
       "      <td>193</td>\n",
       "      <td>227</td>\n",
       "      <td>246</td>\n",
       "      <td>246</td>\n",
       "      <td>242</td>\n",
       "      <td>242</td>\n",
       "      <td>242</td>\n",
       "      <td>239</td>\n",
       "      <td>1</td>\n",
       "      <td>0</td>\n",
       "    </tr>\n",
       "    <tr>\n",
       "      <th>28700</th>\n",
       "      <td>11</td>\n",
       "      <td>10</td>\n",
       "      <td>12</td>\n",
       "      <td>13</td>\n",
       "      <td>9</td>\n",
       "      <td>11</td>\n",
       "      <td>10</td>\n",
       "      <td>11</td>\n",
       "      <td>11</td>\n",
       "      <td>10</td>\n",
       "      <td>...</td>\n",
       "      <td>12</td>\n",
       "      <td>9</td>\n",
       "      <td>10</td>\n",
       "      <td>10</td>\n",
       "      <td>13</td>\n",
       "      <td>12</td>\n",
       "      <td>14</td>\n",
       "      <td>16</td>\n",
       "      <td>0</td>\n",
       "      <td>1</td>\n",
       "    </tr>\n",
       "    <tr>\n",
       "      <th>28706</th>\n",
       "      <td>74</td>\n",
       "      <td>81</td>\n",
       "      <td>87</td>\n",
       "      <td>89</td>\n",
       "      <td>95</td>\n",
       "      <td>100</td>\n",
       "      <td>98</td>\n",
       "      <td>93</td>\n",
       "      <td>105</td>\n",
       "      <td>120</td>\n",
       "      <td>...</td>\n",
       "      <td>211</td>\n",
       "      <td>209</td>\n",
       "      <td>200</td>\n",
       "      <td>195</td>\n",
       "      <td>192</td>\n",
       "      <td>188</td>\n",
       "      <td>187</td>\n",
       "      <td>187</td>\n",
       "      <td>0</td>\n",
       "      <td>1</td>\n",
       "    </tr>\n",
       "    <tr>\n",
       "      <th>28708</th>\n",
       "      <td>195</td>\n",
       "      <td>199</td>\n",
       "      <td>205</td>\n",
       "      <td>206</td>\n",
       "      <td>205</td>\n",
       "      <td>203</td>\n",
       "      <td>206</td>\n",
       "      <td>209</td>\n",
       "      <td>208</td>\n",
       "      <td>210</td>\n",
       "      <td>...</td>\n",
       "      <td>67</td>\n",
       "      <td>34</td>\n",
       "      <td>6</td>\n",
       "      <td>7</td>\n",
       "      <td>3</td>\n",
       "      <td>6</td>\n",
       "      <td>15</td>\n",
       "      <td>38</td>\n",
       "      <td>0</td>\n",
       "      <td>1</td>\n",
       "    </tr>\n",
       "  </tbody>\n",
       "</table>\n",
       "<p>12045 rows × 2306 columns</p>\n",
       "</div>"
      ],
      "text/plain": [
       "       0     1     2     3     4     5     6     7     8     9     ...  2296  \\\n",
       "3        24    32    36    30    32    23    19    20    30    41  ...   132   \n",
       "6        20    17    19    21    25    38    42    42    46    54  ...    68   \n",
       "7        77    78    79    79    78    75    60    55    47    48  ...   139   \n",
       "8        85    84    90   121   101   102   133   153   153   169  ...   111   \n",
       "14        4     2    13    41    56    62    67    87    95    62  ...    80   \n",
       "...     ...   ...   ...   ...   ...   ...   ...   ...   ...   ...  ...   ...   \n",
       "28697   181   172   161   144   116   109    70   109   187   131  ...   146   \n",
       "28698    35    45    69    79    75    48    45    35    56    93  ...   193   \n",
       "28700    11    10    12    13     9    11    10    11    11    10  ...    12   \n",
       "28706    74    81    87    89    95   100    98    93   105   120  ...   211   \n",
       "28708   195   199   205   206   205   203   206   209   208   210  ...    67   \n",
       "\n",
       "       2297  2298  2299  2300  2301  2302  2303  2304  2305  \n",
       "3       132   133   136   139   142   143   142     0     1  \n",
       "6        91    85    93    97    99   107   118     0     1  \n",
       "7       150   179   180   175   125    67    68     1     0  \n",
       "8       106   102    99    89    58    73    84     1     0  \n",
       "14       74    69    99    28     3     7    12     1     0  \n",
       "...     ...   ...   ...   ...   ...   ...   ...   ...   ...  \n",
       "28697   143   138   133   128   125   124   123     1     0  \n",
       "28698   227   246   246   242   242   242   239     1     0  \n",
       "28700     9    10    10    13    12    14    16     0     1  \n",
       "28706   209   200   195   192   188   187   187     0     1  \n",
       "28708    34     6     7     3     6    15    38     0     1  \n",
       "\n",
       "[12045 rows x 2306 columns]"
      ]
     },
     "execution_count": 17,
     "metadata": {},
     "output_type": "execute_result"
    }
   ],
   "source": [
    "data_train"
   ]
  },
  {
   "cell_type": "code",
   "execution_count": 18,
   "metadata": {},
   "outputs": [],
   "source": [
    "n_inputs = 2304 # images are 48 x 48\n",
    "n_classes =  2# classes - as defined below\n",
    "img_dim = 48 # each input image dimension, width and height are both 48\n",
    "\n",
    "x_training_data = data_train.iloc[:, 0:n_inputs] # Extract the first 2304 elements - the image\n",
    "y_training_data = data_train.iloc[:, n_inputs:n_inputs + n_classes] # Extract the last 7 elements - a one hot category encoding\n",
    "\n",
    "x_testing_data = data_test.iloc[:, 0:n_inputs] # Extract the first 2304 elements - the image\n",
    "y_testing_data = data_test.iloc[:, n_inputs:n_inputs + n_classes] # Extract the last 7 elements - a one hot category encoding"
   ]
  },
  {
   "cell_type": "code",
   "execution_count": 19,
   "metadata": {},
   "outputs": [],
   "source": [
    "y_training_data=y_training_data.drop(data_train.columns[[2305]], axis=1)"
   ]
  },
  {
   "cell_type": "code",
   "execution_count": 20,
   "metadata": {},
   "outputs": [],
   "source": [
    "y_testing_data=y_testing_data.drop(data_test.columns[[2305]], axis=1)"
   ]
  },
  {
   "cell_type": "code",
   "execution_count": 21,
   "metadata": {},
   "outputs": [
    {
     "data": {
      "text/html": [
       "<div>\n",
       "<style scoped>\n",
       "    .dataframe tbody tr th:only-of-type {\n",
       "        vertical-align: middle;\n",
       "    }\n",
       "\n",
       "    .dataframe tbody tr th {\n",
       "        vertical-align: top;\n",
       "    }\n",
       "\n",
       "    .dataframe thead th {\n",
       "        text-align: right;\n",
       "    }\n",
       "</style>\n",
       "<table border=\"1\" class=\"dataframe\">\n",
       "  <thead>\n",
       "    <tr style=\"text-align: right;\">\n",
       "      <th></th>\n",
       "      <th>2304</th>\n",
       "    </tr>\n",
       "  </thead>\n",
       "  <tbody>\n",
       "    <tr>\n",
       "      <th>2</th>\n",
       "      <td>0</td>\n",
       "    </tr>\n",
       "    <tr>\n",
       "      <th>4</th>\n",
       "      <td>1</td>\n",
       "    </tr>\n",
       "    <tr>\n",
       "      <th>5</th>\n",
       "      <td>1</td>\n",
       "    </tr>\n",
       "    <tr>\n",
       "      <th>10</th>\n",
       "      <td>1</td>\n",
       "    </tr>\n",
       "    <tr>\n",
       "      <th>12</th>\n",
       "      <td>0</td>\n",
       "    </tr>\n",
       "    <tr>\n",
       "      <th>...</th>\n",
       "      <td>...</td>\n",
       "    </tr>\n",
       "    <tr>\n",
       "      <th>3584</th>\n",
       "      <td>0</td>\n",
       "    </tr>\n",
       "    <tr>\n",
       "      <th>3585</th>\n",
       "      <td>1</td>\n",
       "    </tr>\n",
       "    <tr>\n",
       "      <th>3586</th>\n",
       "      <td>0</td>\n",
       "    </tr>\n",
       "    <tr>\n",
       "      <th>3587</th>\n",
       "      <td>0</td>\n",
       "    </tr>\n",
       "    <tr>\n",
       "      <th>3588</th>\n",
       "      <td>0</td>\n",
       "    </tr>\n",
       "  </tbody>\n",
       "</table>\n",
       "<p>1548 rows × 1 columns</p>\n",
       "</div>"
      ],
      "text/plain": [
       "      2304\n",
       "2        0\n",
       "4        1\n",
       "5        1\n",
       "10       1\n",
       "12       0\n",
       "...    ...\n",
       "3584     0\n",
       "3585     1\n",
       "3586     0\n",
       "3587     0\n",
       "3588     0\n",
       "\n",
       "[1548 rows x 1 columns]"
      ]
     },
     "execution_count": 21,
     "metadata": {},
     "output_type": "execute_result"
    }
   ],
   "source": [
    "# 0 - sad, 1 - Happy\n",
    "y_testing_data"
   ]
  },
  {
   "cell_type": "code",
   "execution_count": 22,
   "metadata": {},
   "outputs": [
    {
     "data": {
      "text/html": [
       "<div>\n",
       "<style scoped>\n",
       "    .dataframe tbody tr th:only-of-type {\n",
       "        vertical-align: middle;\n",
       "    }\n",
       "\n",
       "    .dataframe tbody tr th {\n",
       "        vertical-align: top;\n",
       "    }\n",
       "\n",
       "    .dataframe thead th {\n",
       "        text-align: right;\n",
       "    }\n",
       "</style>\n",
       "<table border=\"1\" class=\"dataframe\">\n",
       "  <thead>\n",
       "    <tr style=\"text-align: right;\">\n",
       "      <th></th>\n",
       "      <th>2304</th>\n",
       "    </tr>\n",
       "  </thead>\n",
       "  <tbody>\n",
       "    <tr>\n",
       "      <th>3</th>\n",
       "      <td>0</td>\n",
       "    </tr>\n",
       "    <tr>\n",
       "      <th>6</th>\n",
       "      <td>0</td>\n",
       "    </tr>\n",
       "    <tr>\n",
       "      <th>7</th>\n",
       "      <td>1</td>\n",
       "    </tr>\n",
       "    <tr>\n",
       "      <th>8</th>\n",
       "      <td>1</td>\n",
       "    </tr>\n",
       "    <tr>\n",
       "      <th>14</th>\n",
       "      <td>1</td>\n",
       "    </tr>\n",
       "    <tr>\n",
       "      <th>...</th>\n",
       "      <td>...</td>\n",
       "    </tr>\n",
       "    <tr>\n",
       "      <th>28697</th>\n",
       "      <td>1</td>\n",
       "    </tr>\n",
       "    <tr>\n",
       "      <th>28698</th>\n",
       "      <td>1</td>\n",
       "    </tr>\n",
       "    <tr>\n",
       "      <th>28700</th>\n",
       "      <td>0</td>\n",
       "    </tr>\n",
       "    <tr>\n",
       "      <th>28706</th>\n",
       "      <td>0</td>\n",
       "    </tr>\n",
       "    <tr>\n",
       "      <th>28708</th>\n",
       "      <td>0</td>\n",
       "    </tr>\n",
       "  </tbody>\n",
       "</table>\n",
       "<p>12045 rows × 1 columns</p>\n",
       "</div>"
      ],
      "text/plain": [
       "       2304\n",
       "3         0\n",
       "6         0\n",
       "7         1\n",
       "8         1\n",
       "14        1\n",
       "...     ...\n",
       "28697     1\n",
       "28698     1\n",
       "28700     0\n",
       "28706     0\n",
       "28708     0\n",
       "\n",
       "[12045 rows x 1 columns]"
      ]
     },
     "execution_count": 22,
     "metadata": {},
     "output_type": "execute_result"
    }
   ],
   "source": [
    "y_training_data"
   ]
  },
  {
   "cell_type": "code",
   "execution_count": 23,
   "metadata": {},
   "outputs": [
    {
     "name": "stdout",
     "output_type": "stream",
     "text": [
      "Train X: (12045, 2304) Train Y: (12045, 1)\n",
      "\n",
      "Test X: (1548, 2304) Test Y: (1548, 1)\n"
     ]
    }
   ],
   "source": [
    "print('Train X:',x_training_data.shape, 'Train Y:', y_training_data.shape)\n",
    "print('\\nTest X:',x_testing_data.shape, 'Test Y:', y_testing_data.shape)"
   ]
  },
  {
   "cell_type": "code",
   "execution_count": 24,
   "metadata": {},
   "outputs": [],
   "source": [
    "from sklearn.preprocessing import StandardScaler\n",
    "sc = StandardScaler()\n",
    "X_train = sc.fit_transform(x_training_data)\n",
    "X_test = sc.transform(x_testing_data)"
   ]
  },
  {
   "cell_type": "markdown",
   "metadata": {
    "collapsed": true
   },
   "source": [
    "[4 Marks] b. Apply PCA and LDA to represent the faces, display a sample of a few faces for each case. You may consider using one or both of these in the steps that follow if they are of any value (this is for you to decide)."
   ]
  },
  {
   "cell_type": "markdown",
   "metadata": {},
   "source": [
    "#### PCA"
   ]
  },
  {
   "cell_type": "code",
   "execution_count": 25,
   "metadata": {},
   "outputs": [],
   "source": [
    "from sklearn.decomposition import PCA\n",
    "from sklearn.decomposition import IncrementalPCA"
   ]
  },
  {
   "cell_type": "code",
   "execution_count": 26,
   "metadata": {},
   "outputs": [],
   "source": [
    "pca = PCA(n_components = 0.99)\n",
    "X_train_pca = pca.fit_transform(X_train)\n",
    "X_test_pca = pca.transform(X_test)"
   ]
  },
  {
   "cell_type": "code",
   "execution_count": 27,
   "metadata": {},
   "outputs": [
    {
     "name": "stdout",
     "output_type": "stream",
     "text": [
      "X Train PCA: (12045, 848) \n",
      "X Test PCA: (1548, 848)\n"
     ]
    }
   ],
   "source": [
    "print('X Train PCA:',X_train_pca.shape, '\\nX Test PCA:',X_test_pca.shape)"
   ]
  },
  {
   "cell_type": "markdown",
   "metadata": {},
   "source": [
    "#### LDA"
   ]
  },
  {
   "cell_type": "code",
   "execution_count": 28,
   "metadata": {},
   "outputs": [
    {
     "name": "stderr",
     "output_type": "stream",
     "text": [
      "C:\\Users\\harsh\\AppData\\Roaming\\Python\\Python38\\site-packages\\sklearn\\utils\\validation.py:63: DataConversionWarning: A column-vector y was passed when a 1d array was expected. Please change the shape of y to (n_samples, ), for example using ravel().\n",
      "  return f(*args, **kwargs)\n"
     ]
    }
   ],
   "source": [
    "from sklearn.discriminant_analysis import LinearDiscriminantAnalysis\n",
    "\n",
    "lda=LinearDiscriminantAnalysis()\n",
    "X_train_lda = lda.fit_transform(X_train, y_training_data)\n",
    "X_test_lda = lda.transform(X_test)"
   ]
  },
  {
   "cell_type": "code",
   "execution_count": 29,
   "metadata": {},
   "outputs": [
    {
     "name": "stdout",
     "output_type": "stream",
     "text": [
      "X Train LDA: (12045, 1) \n",
      "X Test LDA: (1548, 1)\n"
     ]
    }
   ],
   "source": [
    "print('X Train LDA:',X_train_lda.shape, '\\nX Test LDA:',X_test_lda.shape)"
   ]
  },
  {
   "cell_type": "code",
   "execution_count": 30,
   "metadata": {},
   "outputs": [],
   "source": [
    "from sklearn.metrics import accuracy_score, mean_absolute_error, mean_squared_error, roc_curve, auc, roc_auc_score\n",
    "\n",
    "model_score = [[]]\n",
    "\n",
    "# To get all the result of all model's accuracy, using RMSE, MSE\n",
    "def results(x_test, y_train, y_pred, y_test, model, model_name):\n",
    "\n",
    "    #Calculating MSE and RMSE\n",
    "    mse_score = mean_squared_error(y_test,y_pred)\n",
    "    rmse_score = np.sqrt(mean_squared_error(y_test,y_pred))\n",
    "\n",
    "    #Testing Score\n",
    "    test_score = model.score(x_test, y_test)*100\n",
    "\n",
    "    print(\"Accuracy score for Test-Set Data:\", round(test_score, 3))\n",
    "\n",
    "    return [model_name, round(mse_score,3), round(rmse_score,3), round(test_score,3)]\n",
    "  "
   ]
  },
  {
   "cell_type": "markdown",
   "metadata": {
    "collapsed": true
   },
   "source": [
    "[2 Marks] c. Apply naive Bayes to classify faces as happy or sad. Report your accuracy."
   ]
  },
  {
   "cell_type": "markdown",
   "metadata": {},
   "source": [
    "#### Without Performing Dimensionality Reduction"
   ]
  },
  {
   "cell_type": "code",
   "execution_count": 31,
   "metadata": {},
   "outputs": [
    {
     "name": "stderr",
     "output_type": "stream",
     "text": [
      "C:\\Users\\harsh\\AppData\\Roaming\\Python\\Python38\\site-packages\\sklearn\\utils\\validation.py:63: DataConversionWarning: A column-vector y was passed when a 1d array was expected. Please change the shape of y to (n_samples, ), for example using ravel().\n",
      "  return f(*args, **kwargs)\n"
     ]
    },
    {
     "name": "stdout",
     "output_type": "stream",
     "text": [
      "Accuracy score for Test-Set Data: 59.044\n"
     ]
    }
   ],
   "source": [
    "from sklearn.naive_bayes import GaussianNB\n",
    "gnb = GaussianNB()\n",
    "gnb.fit(X_train, y_training_data);\n",
    "\n",
    "y_pred_nb = gnb.predict(X_test)\n",
    "\n",
    "#results(X_test, y_test, y_pred_nb, 'GaussianNB')\n",
    "model_score[0] = results(X_test, y_training_data, y_pred_nb, y_testing_data, gnb, 'Naive Bayes')"
   ]
  },
  {
   "cell_type": "markdown",
   "metadata": {},
   "source": [
    "#### PCA"
   ]
  },
  {
   "cell_type": "code",
   "execution_count": 32,
   "metadata": {},
   "outputs": [
    {
     "name": "stderr",
     "output_type": "stream",
     "text": [
      "C:\\Users\\harsh\\AppData\\Roaming\\Python\\Python38\\site-packages\\sklearn\\utils\\validation.py:63: DataConversionWarning: A column-vector y was passed when a 1d array was expected. Please change the shape of y to (n_samples, ), for example using ravel().\n",
      "  return f(*args, **kwargs)\n"
     ]
    },
    {
     "name": "stdout",
     "output_type": "stream",
     "text": [
      "Accuracy score for Test-Set Data: 55.426\n"
     ]
    }
   ],
   "source": [
    "gnb_pca = GaussianNB()\n",
    "gnb_pca.fit(X_train_pca, y_training_data);\n",
    "\n",
    "y_pred_nb_pca = gnb_pca.predict(X_test_pca)\n",
    "\n",
    "model_score.append(results(X_test_pca,y_training_data, y_pred_nb_pca, y_testing_data, gnb_pca, 'Naive Bayes - PCA'))"
   ]
  },
  {
   "cell_type": "markdown",
   "metadata": {},
   "source": [
    "#### LDA"
   ]
  },
  {
   "cell_type": "code",
   "execution_count": 33,
   "metadata": {},
   "outputs": [
    {
     "name": "stdout",
     "output_type": "stream",
     "text": [
      "Accuracy score for Test-Set Data: 67.506\n"
     ]
    },
    {
     "name": "stderr",
     "output_type": "stream",
     "text": [
      "C:\\Users\\harsh\\AppData\\Roaming\\Python\\Python38\\site-packages\\sklearn\\utils\\validation.py:63: DataConversionWarning: A column-vector y was passed when a 1d array was expected. Please change the shape of y to (n_samples, ), for example using ravel().\n",
      "  return f(*args, **kwargs)\n"
     ]
    }
   ],
   "source": [
    "gnb_pca = GaussianNB()\n",
    "gnb_pca.fit(X_train_lda, y_training_data);\n",
    "\n",
    "y_pred_nb_lda = gnb_pca.predict(X_test_lda)\n",
    "\n",
    "model_score.append(results(X_test_lda,y_training_data, y_pred_nb_lda, y_testing_data, gnb_pca, 'Naive Bayes - LDA'))"
   ]
  },
  {
   "cell_type": "markdown",
   "metadata": {
    "collapsed": true
   },
   "source": [
    "[2 Marks] d. Apply Logistic regression to classify faces as happy or sad. Report the accuracy."
   ]
  },
  {
   "cell_type": "markdown",
   "metadata": {},
   "source": [
    "####  Without Performing Dimensionality Reduction"
   ]
  },
  {
   "cell_type": "code",
   "execution_count": 34,
   "metadata": {},
   "outputs": [
    {
     "name": "stderr",
     "output_type": "stream",
     "text": [
      "C:\\Users\\harsh\\AppData\\Roaming\\Python\\Python38\\site-packages\\sklearn\\utils\\validation.py:63: DataConversionWarning: A column-vector y was passed when a 1d array was expected. Please change the shape of y to (n_samples, ), for example using ravel().\n",
      "  return f(*args, **kwargs)\n"
     ]
    },
    {
     "name": "stdout",
     "output_type": "stream",
     "text": [
      "Accuracy score for Test-Set Data: 70.22\n"
     ]
    },
    {
     "name": "stderr",
     "output_type": "stream",
     "text": [
      "C:\\Users\\harsh\\AppData\\Roaming\\Python\\Python38\\site-packages\\sklearn\\linear_model\\_sag.py:328: ConvergenceWarning: The max_iter was reached which means the coef_ did not converge\n",
      "  warnings.warn(\"The max_iter was reached which means \"\n"
     ]
    }
   ],
   "source": [
    "from sklearn.linear_model import LogisticRegression\n",
    "\n",
    "lreg_all = LogisticRegression(solver='saga', max_iter=100)\n",
    "lreg_all.fit(X_train, y_training_data)\n",
    "\n",
    "y_pred_lr = lreg_all.predict(X_test)\n",
    "\n",
    "model_score.append(results(X_test,y_training_data,y_pred_lr, y_testing_data, lreg_all, 'Logistic Regression'))"
   ]
  },
  {
   "cell_type": "markdown",
   "metadata": {},
   "source": [
    "#### PCA"
   ]
  },
  {
   "cell_type": "code",
   "execution_count": 35,
   "metadata": {},
   "outputs": [
    {
     "name": "stderr",
     "output_type": "stream",
     "text": [
      "C:\\Users\\harsh\\AppData\\Roaming\\Python\\Python38\\site-packages\\sklearn\\utils\\validation.py:63: DataConversionWarning: A column-vector y was passed when a 1d array was expected. Please change the shape of y to (n_samples, ), for example using ravel().\n",
      "  return f(*args, **kwargs)\n"
     ]
    },
    {
     "name": "stdout",
     "output_type": "stream",
     "text": [
      "Accuracy score for Test-Set Data: 71.059\n"
     ]
    },
    {
     "name": "stderr",
     "output_type": "stream",
     "text": [
      "C:\\Users\\harsh\\AppData\\Roaming\\Python\\Python38\\site-packages\\sklearn\\linear_model\\_sag.py:328: ConvergenceWarning: The max_iter was reached which means the coef_ did not converge\n",
      "  warnings.warn(\"The max_iter was reached which means \"\n"
     ]
    }
   ],
   "source": [
    "lreg_all_pca = LogisticRegression(solver='saga', max_iter=100)\n",
    "lreg_all_pca.fit(X_train_pca, y_training_data)\n",
    "\n",
    "y_pred_lr_pca = lreg_all_pca.predict(X_test_pca)\n",
    "\n",
    "model_score.append(results(X_test_pca,y_training_data,y_pred_lr_pca, y_testing_data, lreg_all_pca, 'Logistic Regression - PCA'))"
   ]
  },
  {
   "cell_type": "markdown",
   "metadata": {},
   "source": [
    "#### LDA"
   ]
  },
  {
   "cell_type": "code",
   "execution_count": 36,
   "metadata": {},
   "outputs": [
    {
     "name": "stdout",
     "output_type": "stream",
     "text": [
      "Accuracy score for Test-Set Data: 67.313\n"
     ]
    },
    {
     "name": "stderr",
     "output_type": "stream",
     "text": [
      "C:\\Users\\harsh\\AppData\\Roaming\\Python\\Python38\\site-packages\\sklearn\\utils\\validation.py:63: DataConversionWarning: A column-vector y was passed when a 1d array was expected. Please change the shape of y to (n_samples, ), for example using ravel().\n",
      "  return f(*args, **kwargs)\n"
     ]
    }
   ],
   "source": [
    "lreg_all_pca = LogisticRegression(solver='saga',max_iter = 100)\n",
    "lreg_all_pca.fit(X_train_lda, y_training_data);\n",
    "\n",
    "y_pred_nb_lda = lreg_all_pca.predict(X_test_lda)\n",
    "\n",
    "model_score.append(results(X_test_lda,y_training_data, y_pred_nb_lda, y_testing_data, lreg_all_pca, 'Logistic Regression - LDA'))"
   ]
  },
  {
   "cell_type": "markdown",
   "metadata": {
    "collapsed": true
   },
   "source": [
    "[2 Marks] e. Apply a Support Vector Machine to classify the faces as happy or sad. Choose parameters / arguments to try to maximize your accuracy. Report the accuracy."
   ]
  },
  {
   "cell_type": "code",
   "execution_count": 37,
   "metadata": {},
   "outputs": [
    {
     "name": "stderr",
     "output_type": "stream",
     "text": [
      "C:\\Users\\harsh\\AppData\\Roaming\\Python\\Python38\\site-packages\\sklearn\\utils\\validation.py:63: DataConversionWarning: A column-vector y was passed when a 1d array was expected. Please change the shape of y to (n_samples, ), for example using ravel().\n",
      "  return f(*args, **kwargs)\n"
     ]
    }
   ],
   "source": [
    "from sklearn.preprocessing import MinMaxScaler\n",
    "\n",
    "scaling = MinMaxScaler(feature_range=(-1,1)).fit(X_train)\n",
    "X_train_svm = scaling.transform(X_train)\n",
    "X_test_svm = scaling.transform(X_test)\n",
    "\n",
    "pca = PCA(n_components = 0.99)\n",
    "X_train_svm_pca = pca.fit_transform(X_train_svm)\n",
    "X_test_svm_pca = pca.transform(X_test_svm)\n",
    "\n",
    "lda = LinearDiscriminantAnalysis()\n",
    "X_train_svm_lda = lda.fit_transform(X_train_svm ,y_training_data)\n",
    "X_test_svm_lda = lda.transform(X_test_svm)"
   ]
  },
  {
   "cell_type": "code",
   "execution_count": 38,
   "metadata": {},
   "outputs": [],
   "source": [
    "y_training_df=pd.DataFrame(y_training_data, columns=['label']).reset_index()\n",
    "y_testing_df=pd.DataFrame(y_testing_data, columns=['label']).reset_index()"
   ]
  },
  {
   "cell_type": "markdown",
   "metadata": {},
   "source": [
    "#### Linear Kernel"
   ]
  },
  {
   "cell_type": "markdown",
   "metadata": {},
   "source": [
    "#### Without Performing Dimensionality Reduction"
   ]
  },
  {
   "cell_type": "code",
   "execution_count": 39,
   "metadata": {},
   "outputs": [],
   "source": [
    "# from sklearn.svm import SVC\n",
    "\n",
    "# svclassifier = SVC(kernel='linear')\n",
    "# svclassifier.fit(X_train_svm, y_training_df['label']).all()\n",
    "\n",
    "# y_pred_lk = svclassifier.predict(X_test_svm)\n",
    "\n",
    "# model_score.append(results(X_test_svm,y_training_df['label'], y_pred_lk, y_testing_df['label'], svclassifier, 'SVC Linear Kernel'))"
   ]
  },
  {
   "cell_type": "markdown",
   "metadata": {},
   "source": [
    "#### PCA"
   ]
  },
  {
   "cell_type": "code",
   "execution_count": 40,
   "metadata": {},
   "outputs": [],
   "source": [
    "# svclassifier = SVC(kernel='linear')  \n",
    "# svclassifier.fit(X_train_svm_pca, y_training_df['label']) \n",
    "\n",
    "# y_pred_lk = svclassifier.predict(X_test_svm_pca) \n",
    "# model_score.append(results(X_test_svm_pca,y_training_df['label'],y_pred_lk, y_testing_df['label'], svclassifier, 'SVC Linear Kernel - PCA'))"
   ]
  },
  {
   "cell_type": "markdown",
   "metadata": {},
   "source": [
    "#### LDA"
   ]
  },
  {
   "cell_type": "code",
   "execution_count": 41,
   "metadata": {},
   "outputs": [],
   "source": [
    "# svclassifier = SVC(kernel='linear')  \n",
    "# svclassifier.fit(X_train_svm_lda, y_training);\n",
    "\n",
    "# y_pred_nb_lda = svclassifier.predict(X_test_svm_lda)#X_test_dr)#\n",
    "\n",
    "# Model_Compare.append(results(X_test_svm_lda,y_training, y_pred_nb_lda, y_testing, svclassifier, 'SVC Linear Kernel - LDA'))"
   ]
  },
  {
   "cell_type": "markdown",
   "metadata": {},
   "source": [
    "[1 Mark] f. Which of the approaches above allow you to reliably determine the degree of happiness or sadness (i.e. how happy or how sad)? Which do you trust the most?"
   ]
  },
  {
   "cell_type": "markdown",
   "metadata": {},
   "source": [
    "YOUR ANSWER HERE"
   ]
  },
  {
   "cell_type": "markdown",
   "metadata": {},
   "source": [
    "[2 Marks] g. Based on your answer to f. show the 5 happiest faces and the 5 saddest faces."
   ]
  },
  {
   "cell_type": "code",
   "execution_count": 42,
   "metadata": {},
   "outputs": [],
   "source": [
    "# YOUR CODE HERE"
   ]
  },
  {
   "cell_type": "markdown",
   "metadata": {},
   "source": [
    "# Part II : Multi-class"
   ]
  },
  {
   "cell_type": "markdown",
   "metadata": {
    "collapsed": true
   },
   "source": [
    "## For this part you will repeat the tasks in Part I, but instead consider the multi-class problem and classify inputs according to all 7 classes. "
   ]
  },
  {
   "cell_type": "markdown",
   "metadata": {},
   "source": [
    "[4 Marks] a. Apply PCA and LDA to represent the faces, display a sample of a few faces for each case. Produce a plot for PCA showing the cumulative variance captured by adding additional principal components (e.g. 1st PC, 1st + 2nd PC, etc.). On the same figure, plot the same curve for only happy and sad faces used in part 1."
   ]
  },
  {
   "cell_type": "code",
   "execution_count": 43,
   "metadata": {},
   "outputs": [],
   "source": [
    "# Taking all the dataset, for multi-class problems\n",
    "X_train = np.array([features_2d.flatten() for features_2d in x_training])\n",
    "X_test = np.array([features_2d.flatten() for features_2d in x_testing])\n",
    "y_train = y_training\n",
    "y_test = y_testing"
   ]
  },
  {
   "cell_type": "code",
   "execution_count": 44,
   "metadata": {},
   "outputs": [
    {
     "name": "stdout",
     "output_type": "stream",
     "text": [
      "(28709, 2304)\n",
      "(28709, 7)\n",
      "(3589, 2304)\n",
      "(3589, 7)\n"
     ]
    }
   ],
   "source": [
    "print(X_train.shape)\n",
    "print(y_train.shape)\n",
    "\n",
    "print(X_test.shape)\n",
    "print(y_test.shape)"
   ]
  },
  {
   "cell_type": "code",
   "execution_count": 45,
   "metadata": {},
   "outputs": [],
   "source": [
    "sc = StandardScaler()\n",
    "X_train = sc.fit_transform(X_train)\n",
    "X_test = sc.transform(X_test)"
   ]
  },
  {
   "cell_type": "markdown",
   "metadata": {},
   "source": [
    "#### PCA"
   ]
  },
  {
   "cell_type": "code",
   "execution_count": 46,
   "metadata": {},
   "outputs": [
    {
     "name": "stdout",
     "output_type": "stream",
     "text": [
      " PCA Train DataSet= (28709, 896) \n",
      " PCA Test DataSet= (3589, 896)\n"
     ]
    }
   ],
   "source": [
    "pca_2 = PCA(n_components = 0.99)\n",
    "X_train_pca = pca_2.fit_transform(X_train)\n",
    "X_test_pca = pca_2.transform(X_test)\n",
    "\n",
    "print(' PCA Train DataSet=',X_train_pca.shape,'\\n PCA Test DataSet=' ,X_test_pca.shape)"
   ]
  },
  {
   "cell_type": "markdown",
   "metadata": {},
   "source": [
    "#### LDA"
   ]
  },
  {
   "cell_type": "code",
   "execution_count": 47,
   "metadata": {},
   "outputs": [
    {
     "name": "stdout",
     "output_type": "stream",
     "text": [
      " LDA Train DataSet= (28709, 6) \n",
      " LDA Test DataSet= (3589, 6)\n"
     ]
    }
   ],
   "source": [
    "y_train_1 = np.argmax(y_train, axis=1)\n",
    "\n",
    "lda = LinearDiscriminantAnalysis()\n",
    "X_train_lda = lda.fit_transform(X_train ,y_train_1)\n",
    "X_test_lda = lda.transform(X_test)\n",
    "\n",
    "print(' LDA Train DataSet=',X_train_lda.shape,'\\n LDA Test DataSet=' ,X_test_lda.shape)"
   ]
  },
  {
   "cell_type": "markdown",
   "metadata": {},
   "source": [
    "#### Plotting Part 1 and Part 2 PCA"
   ]
  },
  {
   "cell_type": "code",
   "execution_count": 48,
   "metadata": {},
   "outputs": [
    {
     "data": {
      "image/png": "[encoded data removed]",
      "text/plain": [
       "<Figure size 936x360 with 1 Axes>"
      ]
     },
     "metadata": {
      "needs_background": "light"
     },
     "output_type": "display_data"
    }
   ],
   "source": [
    "# For Part 1 PCA\n",
    "exp_var1 = np.cumsum(pca.explained_variance_ratio_) \n",
    "# For Part 2 PCA\n",
    "exp_var2 = np.cumsum(pca_2.explained_variance_ratio_)\n",
    "\n",
    "plt.figure(figsize=(13,5))\n",
    "plt.rcParams.update({'font.size': 15})\n",
    "\n",
    "plt.plot(exp_var1, 'red', label='PCA 1 (Happy & Sad Faces)')\n",
    "plt.plot(exp_var2, 'blue', label='PCA 2 (All Faces)')\n",
    "for pos in ['right','top']:\n",
    "    plt.gca().spines[pos].set_visible(False)\n",
    "  \n",
    "    plt.legend(framealpha=1, frameon=False, loc='center');\n",
    "\n",
    "plt.xlabel('number of components')\n",
    "plt.ylabel('cumulative explained variance');\n"
   ]
  },
  {
   "cell_type": "code",
   "execution_count": 49,
   "metadata": {},
   "outputs": [],
   "source": [
    "y_train = np.argmax(y_train, axis=1)\n",
    "y_test = np.argmax(y_test, axis=1)\n",
    "\n",
    "labels = [0, 1, 2, 3, 4, 5, 6]"
   ]
  },
  {
   "cell_type": "code",
   "execution_count": 50,
   "metadata": {},
   "outputs": [],
   "source": [
    "model_score = [[]]\n",
    "\n",
    "# To get all the result of all model's accuracy, using RMSE, MSE\n",
    "def results(x_test, y_train, y_pred, y_test, model, model_name):\n",
    "\n",
    "    #Calculating MSE and RMSE\n",
    "    mse_score = mean_squared_error(y_test,y_pred)\n",
    "    rmse_score = np.sqrt(mean_squared_error(y_test,y_pred))\n",
    "\n",
    "    #Testing Score\n",
    "    test_score = model.score(x_test, y_test)*100\n",
    "\n",
    "    print(\"Accuracy score for Test-Set Data:\", round(test_score, 3))\n",
    "\n",
    "    return [model_name, round(mse_score,3), round(rmse_score,3), round(test_score,3)]"
   ]
  },
  {
   "cell_type": "code",
   "execution_count": 51,
   "metadata": {},
   "outputs": [],
   "source": [
    "from sklearn.metrics import confusion_matrix\n",
    "from sklearn.metrics import plot_confusion_matrix\n",
    "\n",
    "# Function to show Confusion Matrix\n",
    "def cm_analysis(y_true, y_pred, labels):\n",
    "    cm = confusion_matrix(y_true, y_pred, labels=labels)\n",
    "    cm_sum = np.sum(cm, axis=1, keepdims=True)\n",
    "    cm_perd = cm / cm_sum.astype(float) * 100\n",
    "    annot = np.empty_like(cm).astype(str)\n",
    "    n_rows, n_cols = cm.shape\n",
    "    for i in range(n_rows):\n",
    "        for j in range(n_cols):\n",
    "            c = cm[i, j]\n",
    "            p = cm_perd[i, j]\n",
    "            if i == j:\n",
    "                s = cm_sum[i]\n",
    "                annot[i, j] = '%.1f%%\\n%d/%d' % (p, c, s)\n",
    "            elif c == 0:\n",
    "                annot[i, j] = ''\n",
    "            else:\n",
    "                annot[i, j] = '%.1f%%\\n%d' % (p, c)\n",
    "    cm = pd.DataFrame(cm, index=labels, columns=labels)\n",
    "    cm.index.name = 'Actual Values'\n",
    "    cm.columns.name = 'Predicted Values'\n",
    "    fig, ax = plt.subplots(figsize=(10,10))\n",
    "    sns.heatmap(cm, annot=annot, fmt='', ax=ax)\n",
    "    plt.show()\n"
   ]
  },
  {
   "cell_type": "markdown",
   "metadata": {},
   "source": [
    "[2 Marks] b. Classify the faces using Naive Bayes and report your accuracy."
   ]
  },
  {
   "cell_type": "markdown",
   "metadata": {},
   "source": [
    "#### Without Performing Dimensionality Reduction"
   ]
  },
  {
   "cell_type": "code",
   "execution_count": 53,
   "metadata": {},
   "outputs": [
    {
     "name": "stdout",
     "output_type": "stream",
     "text": [
      "Accuracy score for Test-Set Data: 22.736\n"
     ]
    }
   ],
   "source": [
    "gnb = GaussianNB()\n",
    "gnb.fit(X_train, y_train)\n",
    "\n",
    "y_pred_nb = gnb.predict(X_test)\n",
    "\n",
    "model_score[0] = results(X_test, y_train, y_pred_nb, y_test, gnb, 'Naive Bayes')"
   ]
  },
  {
   "cell_type": "markdown",
   "metadata": {},
   "source": [
    "#### PCA"
   ]
  },
  {
   "cell_type": "code",
   "execution_count": 54,
   "metadata": {},
   "outputs": [
    {
     "name": "stdout",
     "output_type": "stream",
     "text": [
      "Accuracy score for Test-Set Data: 16.383\n"
     ]
    }
   ],
   "source": [
    "gnb_pca = GaussianNB()\n",
    "gnb_pca.fit(X_train_pca, y_train);\n",
    "\n",
    "y_pred_nb_pca = gnb_pca.predict(X_test_pca)\n",
    "\n",
    "model_score.append(results(X_test_pca,y_train, y_pred_nb_pca, y_test, gnb_pca, 'Naive Bayes (D-R)'))"
   ]
  },
  {
   "cell_type": "markdown",
   "metadata": {},
   "source": [
    "#### LDA"
   ]
  },
  {
   "cell_type": "code",
   "execution_count": 55,
   "metadata": {},
   "outputs": [
    {
     "name": "stdout",
     "output_type": "stream",
     "text": [
      "Accuracy score for Test-Set Data: 35.163\n"
     ]
    }
   ],
   "source": [
    "gnb_lda = GaussianNB()\n",
    "gnb_lda.fit(X_train_lda, y_train)\n",
    "\n",
    "y_pred_nb_lda = gnb_lda.predict(X_test_lda)\n",
    "\n",
    "model_score.append(results(X_test_lda,y_train, y_pred_nb_lda, y_test, gnb_lda, 'Naive Bayes LDA'))"
   ]
  },
  {
   "cell_type": "markdown",
   "metadata": {},
   "source": [
    "Visualize the results of your classifier on the test set using a confusion matrix. Describe briefly how the multi-class nature of the problem is treated by the classifier.\n",
    "DESCRIBE BRIEFLY HERE"
   ]
  },
  {
   "cell_type": "code",
   "execution_count": 56,
   "metadata": {
    "scrolled": false
   },
   "outputs": [
    {
     "name": "stdout",
     "output_type": "stream",
     "text": [
      "Before Dimensionality Reduction\n"
     ]
    },
    {
     "data": {
      "image/png": "[encoded data removed]",
      "text/plain": [
       "<Figure size 720x720 with 2 Axes>"
      ]
     },
     "metadata": {
      "needs_background": "light"
     },
     "output_type": "display_data"
    },
    {
     "name": "stdout",
     "output_type": "stream",
     "text": [
      "\n",
      "After Dimensionality Reduction\n"
     ]
    },
    {
     "data": {
      "image/png": "[encoded data removed]",
      "text/plain": [
       "<Figure size 720x720 with 2 Axes>"
      ]
     },
     "metadata": {
      "needs_background": "light"
     },
     "output_type": "display_data"
    }
   ],
   "source": [
    "cf_matrix = confusion_matrix(y_test, y_pred_nb)\n",
    "cf_matrix_lda = confusion_matrix(y_test, y_pred_nb_lda)\n",
    "\n",
    "print(\"Before Dimensionality Reduction\")\n",
    "cm_analysis(y_test, y_pred_nb, labels)\n",
    "print(\"\\nAfter Dimensionality Reduction\")\n",
    "cm_analysis(y_test, y_pred_nb_lda, labels)"
   ]
  },
  {
   "cell_type": "markdown",
   "metadata": {},
   "source": [
    "Comparing both classification, this model (Gaussian Naive Bayes) has not performed as aspected. Looking at the first confusion matrix which is before Dimensionality Reduction values at 4 & 5 (Sad & Surprise) Faces values are predicting high true positive values. In second confusion matrix, with LDA Dimensionality Reduction, 3 & 5 (Happy & Surprise) faces were predicted most true positive values."
   ]
  },
  {
   "cell_type": "markdown",
   "metadata": {},
   "source": [
    "[2 Marks] c. Classify the faces using logistic regression and report your accuracy."
   ]
  },
  {
   "cell_type": "markdown",
   "metadata": {},
   "source": [
    "#### Without Dimensionality Reduction"
   ]
  },
  {
   "cell_type": "code",
   "execution_count": 58,
   "metadata": {},
   "outputs": [
    {
     "name": "stdout",
     "output_type": "stream",
     "text": [
      "Accuracy score for Test-Set Data: 35.247\n"
     ]
    },
    {
     "name": "stderr",
     "output_type": "stream",
     "text": [
      "C:\\Users\\harsh\\AppData\\Roaming\\Python\\Python38\\site-packages\\sklearn\\linear_model\\_sag.py:328: ConvergenceWarning: The max_iter was reached which means the coef_ did not converge\n",
      "  warnings.warn(\"The max_iter was reached which means \"\n"
     ]
    }
   ],
   "source": [
    "lreg_all = LogisticRegression(solver='saga', max_iter = 100)\n",
    "lreg_all.fit(X_train, y_train)\n",
    "\n",
    "y_pred_lr = lreg_all.predict(X_test)\n",
    "\n",
    "model_score.append(results(X_test,y_train,y_pred_lr, y_test, lreg_all, 'Logistic Regression'))"
   ]
  },
  {
   "cell_type": "markdown",
   "metadata": {},
   "source": [
    "#### PDA"
   ]
  },
  {
   "cell_type": "code",
   "execution_count": 59,
   "metadata": {},
   "outputs": [
    {
     "name": "stdout",
     "output_type": "stream",
     "text": [
      "Accuracy score for Test-Set Data: 36.751\n"
     ]
    },
    {
     "name": "stderr",
     "output_type": "stream",
     "text": [
      "C:\\Users\\harsh\\AppData\\Roaming\\Python\\Python38\\site-packages\\sklearn\\linear_model\\_sag.py:328: ConvergenceWarning: The max_iter was reached which means the coef_ did not converge\n",
      "  warnings.warn(\"The max_iter was reached which means \"\n"
     ]
    }
   ],
   "source": [
    "lreg_all_pca = LogisticRegression(solver='saga', max_iter = 100)\n",
    "lreg_all_pca.fit(X_train_pca, y_train)\n",
    "\n",
    "y_pred_lr_pca = lreg_all_pca.predict(X_test_pca)\n",
    "\n",
    "model_score.append(results(X_test_pca,y_train,y_pred_lr_pca, y_test, lreg_all_pca, 'Logistic Regression PCA'))"
   ]
  },
  {
   "cell_type": "markdown",
   "metadata": {},
   "source": [
    "#### LDA"
   ]
  },
  {
   "cell_type": "code",
   "execution_count": 60,
   "metadata": {},
   "outputs": [
    {
     "name": "stdout",
     "output_type": "stream",
     "text": [
      "Accuracy score for Test-Set Data: 34.634\n"
     ]
    }
   ],
   "source": [
    "lreg_all_lda = LogisticRegression(solver='saga', max_iter = 100)\n",
    "lreg_all_lda.fit(X_train_lda, y_train);\n",
    "\n",
    "y_pred_nb_lda = gnb_lda.predict(X_test_lda)\n",
    "\n",
    "model_score.append(results(X_test_lda,y_train, y_pred_nb_lda, y_test, lreg_all_lda, 'Logistic Regression LDA'))"
   ]
  },
  {
   "cell_type": "markdown",
   "metadata": {},
   "source": [
    "Visualize the results of your classifier on the test set using a confusion matrix. Describe briefly how the multi-class nature of the problem is treated by the classifier.\n",
    "DESCRIBE BRIEFLY HERE"
   ]
  },
  {
   "cell_type": "code",
   "execution_count": 62,
   "metadata": {},
   "outputs": [
    {
     "name": "stdout",
     "output_type": "stream",
     "text": [
      "Before Dimensionality Reduction\n"
     ]
    },
    {
     "data": {
      "image/png": "[encoded data removed]",
      "text/plain": [
       "<Figure size 720x720 with 2 Axes>"
      ]
     },
     "metadata": {
      "needs_background": "light"
     },
     "output_type": "display_data"
    },
    {
     "name": "stdout",
     "output_type": "stream",
     "text": [
      "After Dimensionality Reduction\n"
     ]
    },
    {
     "data": {
      "image/png": "[encoded data removed]",
      "text/plain": [
       "<Figure size 720x720 with 2 Axes>"
      ]
     },
     "metadata": {
      "needs_background": "light"
     },
     "output_type": "display_data"
    }
   ],
   "source": [
    "cf_matrix = confusion_matrix(y_test, y_pred_lr)\n",
    "cf_matrix_pca = confusion_matrix(y_test, y_pred_lr_pca)\n",
    "\n",
    "print(\"Before Dimensionality Reduction\")\n",
    "cm_analysis(y_test, y_pred_lr, labels)\n",
    "print(\"After Dimensionality Reduction\")\n",
    "cm_analysis(y_test, y_pred_lr_pca, labels)"
   ]
  },
  {
   "cell_type": "markdown",
   "metadata": {},
   "source": [
    "Comparing both the confusion matrix, as Logistic Regression has also not performed well on both the cases, First Confusion Matrix which is Without Performing Dimensionality Reduction, Happy - 3 & Surprise - 5 faces showing true positive values while second confusion matrix with dimensionality reduction also showing the same result. So, both the classification are not performing well."
   ]
  },
  {
   "cell_type": "markdown",
   "metadata": {},
   "source": [
    "[2 Marks] d. Classify the faces using a support vector machine and report your accuracy."
   ]
  },
  {
   "cell_type": "code",
   "execution_count": null,
   "metadata": {},
   "outputs": [],
   "source": [
    "# YOUR CODE HERE"
   ]
  },
  {
   "cell_type": "markdown",
   "metadata": {},
   "source": [
    "Visualize the results of your classifier on the test set using a confusion matrix. Describe briefly how the multi-class nature of the problem is treated by the classifier.\n",
    "DESCRIBE BRIEFLY HERE"
   ]
  },
  {
   "cell_type": "markdown",
   "metadata": {},
   "source": [
    "[2 Marks] e. Which categories of faces seem to be most similar or least similar?\n",
    "EXPLAIN HERE"
   ]
  },
  {
   "cell_type": "markdown",
   "metadata": {},
   "source": [
    "[4 Marks] f. Let's assume that some of the faces were labeled wrong in producing the dataset. Propose and implement a solution that identifies images that are potentially mislabeled. Show 10 samples based on the method you choose."
   ]
  },
  {
   "cell_type": "markdown",
   "metadata": {},
   "source": [
    "#### Applying CNN Classifier"
   ]
  },
  {
   "cell_type": "code",
   "execution_count": 63,
   "metadata": {},
   "outputs": [],
   "source": [
    "from keras.datasets import mnist\n",
    "from keras.models import Sequential\n",
    "from keras.layers import Dense, Dropout, Conv2D, MaxPool2D\n",
    "from keras.utils import np_utils"
   ]
  },
  {
   "cell_type": "code",
   "execution_count": 65,
   "metadata": {},
   "outputs": [],
   "source": [
    "from sklearn.metrics import accuracy_score"
   ]
  },
  {
   "cell_type": "code",
   "execution_count": 67,
   "metadata": {},
   "outputs": [],
   "source": [
    "# Flattening the images from the 28x28 pixels to 1D 787 pixels\n",
    "X_train = X_train.astype('float32')\n",
    "X_test = X_test.astype('float32')"
   ]
  },
  {
   "cell_type": "code",
   "execution_count": 69,
   "metadata": {},
   "outputs": [],
   "source": [
    "# normalizing the data to help with the training\n",
    "X_train /= 255\n",
    "X_test /= 255"
   ]
  },
  {
   "cell_type": "code",
   "execution_count": 70,
   "metadata": {},
   "outputs": [
    {
     "name": "stdout",
     "output_type": "stream",
     "text": [
      "Shape before one-hot encoding:  (28709,)\n",
      "Shape after one-hot encoding:  (28709, 10)\n"
     ]
    }
   ],
   "source": [
    "# one-hot encoding using keras' numpy-related utilities\n",
    "n_classes = 10\n",
    "print(\"Shape before one-hot encoding: \", y_train.shape)\n",
    "Y_train = np_utils.to_categorical(y_train, n_classes)\n",
    "Y_test = np_utils.to_categorical(y_test, n_classes)\n",
    "print(\"Shape after one-hot encoding: \", Y_train.shape)"
   ]
  },
  {
   "cell_type": "code",
   "execution_count": 73,
   "metadata": {},
   "outputs": [
    {
     "name": "stdout",
     "output_type": "stream",
     "text": [
      "Model: \"sequential_1\"\n",
      "_________________________________________________________________\n",
      "Layer (type)                 Output Shape              Param #   \n",
      "=================================================================\n",
      "dense_2 (Dense)              (None, 100)               230500    \n",
      "_________________________________________________________________\n",
      "dense_3 (Dense)              (None, 10)                1010      \n",
      "=================================================================\n",
      "Total params: 231,510\n",
      "Trainable params: 231,510\n",
      "Non-trainable params: 0\n",
      "_________________________________________________________________\n"
     ]
    }
   ],
   "source": [
    "# building a linear stack of layers with the sequential model\n",
    "model = Sequential()\n",
    "# hidden layer\n",
    "model.add(Dense(100, input_shape=(2304,), activation='relu'))\n",
    "# output layer\n",
    "model.add(Dense(10, activation='softmax'))\n",
    "\n",
    "# looking at the model summary\n",
    "model.summary()\n",
    "# compiling the sequential model\n",
    "model.compile(loss='categorical_crossentropy', metrics=['accuracy'], optimizer='adam')"
   ]
  },
  {
   "cell_type": "code",
   "execution_count": 75,
   "metadata": {},
   "outputs": [
    {
     "name": "stdout",
     "output_type": "stream",
     "text": [
      "Epoch 1/50\n",
      "225/225 [==============================] - 1s 5ms/step - loss: 1.5393 - accuracy: 0.4062 - val_loss: 1.5629 - val_accuracy: 0.4074\n",
      "Epoch 2/50\n",
      "225/225 [==============================] - 1s 5ms/step - loss: 1.5308 - accuracy: 0.4108 - val_loss: 1.5605 - val_accuracy: 0.4071\n",
      "Epoch 3/50\n",
      "225/225 [==============================] - 1s 5ms/step - loss: 1.5231 - accuracy: 0.4138 - val_loss: 1.5512 - val_accuracy: 0.4076\n",
      "Epoch 4/50\n",
      "225/225 [==============================] - 1s 5ms/step - loss: 1.5153 - accuracy: 0.4159 - val_loss: 1.5527 - val_accuracy: 0.4099\n",
      "Epoch 5/50\n",
      "225/225 [==============================] - 1s 5ms/step - loss: 1.5084 - accuracy: 0.4205 - val_loss: 1.5473 - val_accuracy: 0.4099\n",
      "Epoch 6/50\n",
      "225/225 [==============================] - 1s 5ms/step - loss: 1.5006 - accuracy: 0.4256 - val_loss: 1.5441 - val_accuracy: 0.4079\n",
      "Epoch 7/50\n",
      "225/225 [==============================] - 1s 5ms/step - loss: 1.4930 - accuracy: 0.4279 - val_loss: 1.5459 - val_accuracy: 0.4068\n",
      "Epoch 8/50\n",
      "225/225 [==============================] - 1s 5ms/step - loss: 1.4869 - accuracy: 0.4312 - val_loss: 1.5406 - val_accuracy: 0.4124\n",
      "Epoch 9/50\n",
      "225/225 [==============================] - 1s 5ms/step - loss: 1.4799 - accuracy: 0.4333 - val_loss: 1.5382 - val_accuracy: 0.4079\n",
      "Epoch 10/50\n",
      "225/225 [==============================] - 1s 5ms/step - loss: 1.4732 - accuracy: 0.4362 - val_loss: 1.5375 - val_accuracy: 0.4054\n",
      "Epoch 11/50\n",
      "225/225 [==============================] - 1s 5ms/step - loss: 1.4669 - accuracy: 0.4385 - val_loss: 1.5355 - val_accuracy: 0.4099\n",
      "Epoch 12/50\n",
      "225/225 [==============================] - 1s 5ms/step - loss: 1.4598 - accuracy: 0.4426 - val_loss: 1.5325 - val_accuracy: 0.4107\n",
      "Epoch 13/50\n",
      "225/225 [==============================] - 1s 5ms/step - loss: 1.4541 - accuracy: 0.4455 - val_loss: 1.5333 - val_accuracy: 0.4118\n",
      "Epoch 14/50\n",
      "225/225 [==============================] - 1s 5ms/step - loss: 1.4470 - accuracy: 0.4498 - val_loss: 1.5328 - val_accuracy: 0.4168\n",
      "Epoch 15/50\n",
      "225/225 [==============================] - 1s 5ms/step - loss: 1.4403 - accuracy: 0.4511 - val_loss: 1.5340 - val_accuracy: 0.4138\n",
      "Epoch 16/50\n",
      "225/225 [==============================] - 1s 5ms/step - loss: 1.4340 - accuracy: 0.4529 - val_loss: 1.5332 - val_accuracy: 0.4071\n",
      "Epoch 17/50\n",
      "225/225 [==============================] - 1s 5ms/step - loss: 1.4285 - accuracy: 0.4568 - val_loss: 1.5294 - val_accuracy: 0.4115\n",
      "Epoch 18/50\n",
      "225/225 [==============================] - 1s 5ms/step - loss: 1.4224 - accuracy: 0.4591 - val_loss: 1.5289 - val_accuracy: 0.4110\n",
      "Epoch 19/50\n",
      "225/225 [==============================] - ETA: 0s - loss: 1.4164 - accuracy: 0.46 - 1s 6ms/step - loss: 1.4163 - accuracy: 0.4617 - val_loss: 1.5278 - val_accuracy: 0.4138\n",
      "Epoch 20/50\n",
      "225/225 [==============================] - 1s 5ms/step - loss: 1.4100 - accuracy: 0.4647 - val_loss: 1.5262 - val_accuracy: 0.4163\n",
      "Epoch 21/50\n",
      "225/225 [==============================] - 1s 5ms/step - loss: 1.4036 - accuracy: 0.4678 - val_loss: 1.5245 - val_accuracy: 0.4087\n",
      "Epoch 22/50\n",
      "225/225 [==============================] - 1s 4ms/step - loss: 1.3981 - accuracy: 0.4725 - val_loss: 1.5287 - val_accuracy: 0.4101\n",
      "Epoch 23/50\n",
      "225/225 [==============================] - 1s 4ms/step - loss: 1.3926 - accuracy: 0.4755 - val_loss: 1.5304 - val_accuracy: 0.4099\n",
      "Epoch 24/50\n",
      "225/225 [==============================] - 1s 5ms/step - loss: 1.3862 - accuracy: 0.4773 - val_loss: 1.5287 - val_accuracy: 0.4124\n",
      "Epoch 25/50\n",
      "225/225 [==============================] - 1s 5ms/step - loss: 1.3811 - accuracy: 0.4810 - val_loss: 1.5290 - val_accuracy: 0.4062\n",
      "Epoch 26/50\n",
      "225/225 [==============================] - 1s 5ms/step - loss: 1.3746 - accuracy: 0.4815 - val_loss: 1.5265 - val_accuracy: 0.4082\n",
      "Epoch 27/50\n",
      "225/225 [==============================] - 1s 5ms/step - loss: 1.3694 - accuracy: 0.4834 - val_loss: 1.5259 - val_accuracy: 0.4124\n",
      "Epoch 28/50\n",
      "225/225 [==============================] - 1s 5ms/step - loss: 1.3633 - accuracy: 0.4869 - val_loss: 1.5238 - val_accuracy: 0.4171\n",
      "Epoch 29/50\n",
      "225/225 [==============================] - 1s 4ms/step - loss: 1.3573 - accuracy: 0.4888 - val_loss: 1.5247 - val_accuracy: 0.4118\n",
      "Epoch 30/50\n",
      "225/225 [==============================] - 1s 5ms/step - loss: 1.3524 - accuracy: 0.4923 - val_loss: 1.5276 - val_accuracy: 0.4129\n",
      "Epoch 31/50\n",
      "225/225 [==============================] - 1s 4ms/step - loss: 1.3468 - accuracy: 0.4956 - val_loss: 1.5228 - val_accuracy: 0.4152\n",
      "Epoch 32/50\n",
      "225/225 [==============================] - 1s 4ms/step - loss: 1.3417 - accuracy: 0.4960 - val_loss: 1.5219 - val_accuracy: 0.4166\n",
      "Epoch 33/50\n",
      "225/225 [==============================] - 1s 5ms/step - loss: 1.3356 - accuracy: 0.5011 - val_loss: 1.5267 - val_accuracy: 0.4115\n",
      "Epoch 34/50\n",
      "225/225 [==============================] - 1s 5ms/step - loss: 1.3308 - accuracy: 0.5019 - val_loss: 1.5265 - val_accuracy: 0.4157\n",
      "Epoch 35/50\n",
      "225/225 [==============================] - 1s 5ms/step - loss: 1.3255 - accuracy: 0.5014 - val_loss: 1.5245 - val_accuracy: 0.4163\n",
      "Epoch 36/50\n",
      "225/225 [==============================] - 1s 5ms/step - loss: 1.3204 - accuracy: 0.5064 - val_loss: 1.5247 - val_accuracy: 0.4179\n",
      "Epoch 37/50\n",
      "225/225 [==============================] - 1s 4ms/step - loss: 1.3140 - accuracy: 0.5114 - val_loss: 1.5270 - val_accuracy: 0.4132\n",
      "Epoch 38/50\n",
      "225/225 [==============================] - 1s 4ms/step - loss: 1.3098 - accuracy: 0.5122 - val_loss: 1.5263 - val_accuracy: 0.4138\n",
      "Epoch 39/50\n",
      "225/225 [==============================] - 1s 5ms/step - loss: 1.3045 - accuracy: 0.5152 - val_loss: 1.5285 - val_accuracy: 0.4191\n",
      "Epoch 40/50\n",
      "225/225 [==============================] - 1s 5ms/step - loss: 1.2993 - accuracy: 0.5166 - val_loss: 1.5306 - val_accuracy: 0.4146\n",
      "Epoch 41/50\n",
      "225/225 [==============================] - 1s 5ms/step - loss: 1.2953 - accuracy: 0.5211 - val_loss: 1.5238 - val_accuracy: 0.4196\n",
      "Epoch 42/50\n",
      "225/225 [==============================] - 1s 6ms/step - loss: 1.2902 - accuracy: 0.5202 - val_loss: 1.5290 - val_accuracy: 0.4168\n",
      "Epoch 43/50\n",
      "225/225 [==============================] - 1s 5ms/step - loss: 1.2848 - accuracy: 0.5208 - val_loss: 1.5278 - val_accuracy: 0.4218\n",
      "Epoch 44/50\n",
      "225/225 [==============================] - 1s 5ms/step - loss: 1.2801 - accuracy: 0.5254 - val_loss: 1.5266 - val_accuracy: 0.4163\n",
      "Epoch 45/50\n",
      "225/225 [==============================] - 1s 5ms/step - loss: 1.2747 - accuracy: 0.5268 - val_loss: 1.5275 - val_accuracy: 0.4157\n",
      "Epoch 46/50\n",
      "225/225 [==============================] - 1s 5ms/step - loss: 1.2694 - accuracy: 0.5297 - val_loss: 1.5304 - val_accuracy: 0.4166\n",
      "Epoch 47/50\n",
      "225/225 [==============================] - 1s 4ms/step - loss: 1.2651 - accuracy: 0.5306 - val_loss: 1.5286 - val_accuracy: 0.4227\n",
      "Epoch 48/50\n",
      "225/225 [==============================] - 1s 4ms/step - loss: 1.2604 - accuracy: 0.5354 - val_loss: 1.5296 - val_accuracy: 0.4227\n",
      "Epoch 49/50\n",
      "225/225 [==============================] - 1s 5ms/step - loss: 1.2550 - accuracy: 0.5387 - val_loss: 1.5401 - val_accuracy: 0.4210\n",
      "Epoch 50/50\n",
      "225/225 [==============================] - 1s 5ms/step - loss: 1.2503 - accuracy: 0.5384 - val_loss: 1.5346 - val_accuracy: 0.4202\n"
     ]
    },
    {
     "data": {
      "text/plain": [
       "<tensorflow.python.keras.callbacks.History at 0x26aaebb45e0>"
      ]
     },
     "execution_count": 75,
     "metadata": {},
     "output_type": "execute_result"
    }
   ],
   "source": [
    "# training the model for 10 epochs\n",
    "model.fit(X_train, Y_train, batch_size=128, epochs=50, validation_data=(X_test, Y_test))"
   ]
  },
  {
   "cell_type": "code",
   "execution_count": 78,
   "metadata": {},
   "outputs": [
    {
     "name": "stdout",
     "output_type": "stream",
     "text": [
      "113/113 [==============================] - 0s 1ms/step - loss: 1.5346 - accuracy: 0.4202\n"
     ]
    }
   ],
   "source": [
    "test_eval = model.evaluate(X_test,Y_test, verbose=1)"
   ]
  },
  {
   "cell_type": "code",
   "execution_count": 80,
   "metadata": {},
   "outputs": [
    {
     "name": "stdout",
     "output_type": "stream",
     "text": [
      "Test loss: 153.4554123878479\n",
      "Test accuracy: 42.01727509498596\n"
     ]
    }
   ],
   "source": [
    "print('Test loss:', test_eval[0]*100)\n",
    "print('Test accuracy:', test_eval[1]*100)"
   ]
  },
  {
   "cell_type": "markdown",
   "metadata": {},
   "source": [
    "# Optional"
   ]
  },
  {
   "cell_type": "markdown",
   "metadata": {},
   "source": [
    "From all the classification approaches considered above, choose one to score faces based on a continuous valued prediction of for each of the categories."
   ]
  },
  {
   "cell_type": "markdown",
   "metadata": {},
   "source": [
    "[No Marks] a. Produce a prediction for each face in the test set (this has 7 dimensions). Visualize these based on a 2D embedding of the scores. The \"data points\" plotted in the embedding should show the actual picture of the face, at the corresponding 2D point location. (You could consider using t-SNE for your embedding)"
   ]
  },
  {
   "cell_type": "code",
   "execution_count": null,
   "metadata": {},
   "outputs": [],
   "source": [
    "# YOUR CODE HERE"
   ]
  },
  {
   "cell_type": "code",
   "execution_count": null,
   "metadata": {},
   "outputs": [],
   "source": []
  }
 ],
 "metadata": {
  "anaconda-cloud": {},
  "kernelspec": {
   "display_name": "Python 3",
   "language": "python",
   "name": "python3"
  },
  "language_info": {
   "codemirror_mode": {
    "name": "ipython",
    "version": 3
   },
   "file_extension": ".py",
   "mimetype": "text/x-python",
   "name": "python",
   "nbconvert_exporter": "python",
   "pygments_lexer": "ipython3",
   "version": "3.8.6"
  }
 },
 "nbformat": 4,
 "nbformat_minor": 1
}
